{
 "cells": [
  {
   "cell_type": "markdown",
   "id": "8c15dce9-4456-4ca8-9622-b7f36157ccc3",
   "metadata": {},
   "source": [
    "#### load data"
   ]
  },
  {
   "cell_type": "code",
   "execution_count": 175,
   "id": "7686a881-c87b-42d3-8828-add57ef5bc51",
   "metadata": {},
   "outputs": [
    {
     "name": "stdout",
     "output_type": "stream",
     "text": [
      "Thu Jan  2 12:12:46 2025       \n",
      "+-----------------------------------------------------------------------------------------+\n",
      "| NVIDIA-SMI 550.90.07              Driver Version: 550.90.07      CUDA Version: 12.4     |\n",
      "|-----------------------------------------+------------------------+----------------------+\n",
      "| GPU  Name                 Persistence-M | Bus-Id          Disp.A | Volatile Uncorr. ECC |\n",
      "| Fan  Temp   Perf          Pwr:Usage/Cap |           Memory-Usage | GPU-Util  Compute M. |\n",
      "|                                         |                        |               MIG M. |\n",
      "|=========================================+========================+======================|\n",
      "|   0  NVIDIA A100-SXM4-40GB          Off |   00000000:07:00.0 Off |                    0 |\n",
      "| N/A   38C    P0             80W /  400W |   39298MiB /  40960MiB |    100%      Default |\n",
      "|                                         |                        |             Disabled |\n",
      "+-----------------------------------------+------------------------+----------------------+\n",
      "|   1  NVIDIA A100-SXM4-40GB          Off |   00000000:0F:00.0 Off |                    0 |\n",
      "| N/A   30C    P0             60W /  400W |    9433MiB /  40960MiB |      0%      Default |\n",
      "|                                         |                        |             Disabled |\n",
      "+-----------------------------------------+------------------------+----------------------+\n",
      "|   2  NVIDIA A100-SXM4-40GB          Off |   00000000:47:00.0 Off |                    0 |\n",
      "| N/A   57C    P0            285W /  400W |   17617MiB /  40960MiB |     99%      Default |\n",
      "|                                         |                        |             Disabled |\n",
      "+-----------------------------------------+------------------------+----------------------+\n",
      "|   3  NVIDIA A100-SXM4-40GB          Off |   00000000:4E:00.0 Off |                    0 |\n",
      "| N/A   30C    P0             78W /  400W |    2905MiB /  40960MiB |      0%      Default |\n",
      "|                                         |                        |             Disabled |\n",
      "+-----------------------------------------+------------------------+----------------------+\n",
      "|   4  NVIDIA A100-SXM4-40GB          Off |   00000000:87:00.0 Off |                    0 |\n",
      "| N/A   36C    P0             82W /  400W |   33149MiB /  40960MiB |      0%      Default |\n",
      "|                                         |                        |             Disabled |\n",
      "+-----------------------------------------+------------------------+----------------------+\n",
      "|   5  NVIDIA A100-SXM4-40GB          Off |   00000000:90:00.0 Off |                    0 |\n",
      "| N/A   34C    P0             83W /  400W |   14307MiB /  40960MiB |      0%      Default |\n",
      "|                                         |                        |             Disabled |\n",
      "+-----------------------------------------+------------------------+----------------------+\n",
      "|   6  NVIDIA A100-SXM4-40GB          Off |   00000000:B7:00.0 Off |                    0 |\n",
      "| N/A   48C    P0            104W /  400W |     495MiB /  40960MiB |      0%      Default |\n",
      "|                                         |                        |             Disabled |\n",
      "+-----------------------------------------+------------------------+----------------------+\n",
      "|   7  NVIDIA A100-SXM4-40GB          Off |   00000000:BD:00.0 Off |                    0 |\n",
      "| N/A   34C    P0             87W /  400W |     519MiB /  40960MiB |      0%      Default |\n",
      "|                                         |                        |             Disabled |\n",
      "+-----------------------------------------+------------------------+----------------------+\n",
      "                                                                                         \n",
      "+-----------------------------------------------------------------------------------------+\n",
      "| Processes:                                                                              |\n",
      "|  GPU   GI   CI        PID   Type   Process name                              GPU Memory |\n",
      "|        ID   ID                                                               Usage      |\n",
      "|=========================================================================================|\n",
      "|    1   N/A  N/A     23615      C   /home/shalini/kmsha_mtp/bin/python3             0MiB |\n",
      "+-----------------------------------------------------------------------------------------+\n"
     ]
    }
   ],
   "source": [
    "!nvidia-smi"
   ]
  },
  {
   "cell_type": "code",
   "execution_count": 176,
   "id": "7f8ae411-a739-4f87-ae63-7161b775c96d",
   "metadata": {},
   "outputs": [],
   "source": [
    "import os\n",
    "os.environ[\"CUDA_VISIBLE_DEVICES\"] = \"1\""
   ]
  },
  {
   "cell_type": "code",
   "execution_count": 177,
   "id": "dc8cc348-628d-4285-8ca4-9b35f80fe7a3",
   "metadata": {},
   "outputs": [],
   "source": [
    "import pandas as pd\n",
    "import numpy as np\n",
    "import matplotlib.pyplot as plt"
   ]
  },
  {
   "cell_type": "code",
   "execution_count": 178,
   "id": "563aa5c8-13bb-4ea8-b294-d995c6bdf234",
   "metadata": {},
   "outputs": [],
   "source": [
    "data = pd.read_csv(\"Project_final_data.csv\")"
   ]
  },
  {
   "cell_type": "code",
   "execution_count": 179,
   "id": "0d70e058-a9ad-45ec-b76e-770ed2ba8aa6",
   "metadata": {},
   "outputs": [
    {
     "data": {
      "text/html": [
       "<div>\n",
       "<style scoped>\n",
       "    .dataframe tbody tr th:only-of-type {\n",
       "        vertical-align: middle;\n",
       "    }\n",
       "\n",
       "    .dataframe tbody tr th {\n",
       "        vertical-align: top;\n",
       "    }\n",
       "\n",
       "    .dataframe thead th {\n",
       "        text-align: right;\n",
       "    }\n",
       "</style>\n",
       "<table border=\"1\" class=\"dataframe\">\n",
       "  <thead>\n",
       "    <tr style=\"text-align: right;\">\n",
       "      <th></th>\n",
       "      <th>CVE_ID</th>\n",
       "      <th>CAPEC_ID</th>\n",
       "      <th>Similarity_Score</th>\n",
       "      <th>CVE_Description</th>\n",
       "      <th>CAPEC_Description</th>\n",
       "      <th>Execution Flow</th>\n",
       "    </tr>\n",
       "  </thead>\n",
       "  <tbody>\n",
       "    <tr>\n",
       "      <th>0</th>\n",
       "      <td>CVE-2023-25262</td>\n",
       "      <td>664.0</td>\n",
       "      <td>0.555823</td>\n",
       "      <td>Stimulsoft GmbH Stimulsoft Designer (Web) 2023...</td>\n",
       "      <td>An adversary exploits improper input validatio...</td>\n",
       "      <td>::STEP:1:PHASE:Explore:DESCRIPTION:[Find targe...</td>\n",
       "    </tr>\n",
       "    <tr>\n",
       "      <th>1</th>\n",
       "      <td>CVE-2023-46725</td>\n",
       "      <td>664.0</td>\n",
       "      <td>0.552269</td>\n",
       "      <td>FoodCoopShop is open source software for food ...</td>\n",
       "      <td>An adversary exploits improper input validatio...</td>\n",
       "      <td>::STEP:1:PHASE:Explore:DESCRIPTION:[Find targe...</td>\n",
       "    </tr>\n",
       "    <tr>\n",
       "      <th>2</th>\n",
       "      <td>CVE-2023-38491</td>\n",
       "      <td>209.0</td>\n",
       "      <td>0.516406</td>\n",
       "      <td>Kirby is a content management system. A vulner...</td>\n",
       "      <td>An adversary creates a file with scripting con...</td>\n",
       "      <td>::STEP:1:PHASE:Explore:DESCRIPTION:[Survey the...</td>\n",
       "    </tr>\n",
       "    <tr>\n",
       "      <th>3</th>\n",
       "      <td>CVE-2023-22493</td>\n",
       "      <td>664.0</td>\n",
       "      <td>0.504184</td>\n",
       "      <td>RSSHub is an open source RSS feed generator. R...</td>\n",
       "      <td>An adversary exploits improper input validatio...</td>\n",
       "      <td>::STEP:1:PHASE:Explore:DESCRIPTION:[Find targe...</td>\n",
       "    </tr>\n",
       "    <tr>\n",
       "      <th>4</th>\n",
       "      <td>CVE-2023-2152</td>\n",
       "      <td>219.0</td>\n",
       "      <td>0.485873</td>\n",
       "      <td>A vulnerability has been found in SourceCodest...</td>\n",
       "      <td>An attacker subverts an intermediate system us...</td>\n",
       "      <td>::STEP:1:PHASE:Explore:DESCRIPTION:[Survey the...</td>\n",
       "    </tr>\n",
       "  </tbody>\n",
       "</table>\n",
       "</div>"
      ],
      "text/plain": [
       "           CVE_ID  CAPEC_ID  Similarity_Score  \\\n",
       "0  CVE-2023-25262     664.0          0.555823   \n",
       "1  CVE-2023-46725     664.0          0.552269   \n",
       "2  CVE-2023-38491     209.0          0.516406   \n",
       "3  CVE-2023-22493     664.0          0.504184   \n",
       "4   CVE-2023-2152     219.0          0.485873   \n",
       "\n",
       "                                     CVE_Description  \\\n",
       "0  Stimulsoft GmbH Stimulsoft Designer (Web) 2023...   \n",
       "1  FoodCoopShop is open source software for food ...   \n",
       "2  Kirby is a content management system. A vulner...   \n",
       "3  RSSHub is an open source RSS feed generator. R...   \n",
       "4  A vulnerability has been found in SourceCodest...   \n",
       "\n",
       "                                   CAPEC_Description  \\\n",
       "0  An adversary exploits improper input validatio...   \n",
       "1  An adversary exploits improper input validatio...   \n",
       "2  An adversary creates a file with scripting con...   \n",
       "3  An adversary exploits improper input validatio...   \n",
       "4  An attacker subverts an intermediate system us...   \n",
       "\n",
       "                                      Execution Flow  \n",
       "0  ::STEP:1:PHASE:Explore:DESCRIPTION:[Find targe...  \n",
       "1  ::STEP:1:PHASE:Explore:DESCRIPTION:[Find targe...  \n",
       "2  ::STEP:1:PHASE:Explore:DESCRIPTION:[Survey the...  \n",
       "3  ::STEP:1:PHASE:Explore:DESCRIPTION:[Find targe...  \n",
       "4  ::STEP:1:PHASE:Explore:DESCRIPTION:[Survey the...  "
      ]
     },
     "execution_count": 179,
     "metadata": {},
     "output_type": "execute_result"
    }
   ],
   "source": [
    "data.head()"
   ]
  },
  {
   "cell_type": "code",
   "execution_count": 180,
   "id": "e038eff0-e35b-4bcd-a3ab-d3f2ab02a31d",
   "metadata": {},
   "outputs": [
    {
     "name": "stdout",
     "output_type": "stream",
     "text": [
      "<class 'pandas.core.frame.DataFrame'>\n",
      "RangeIndex: 12904 entries, 0 to 12903\n",
      "Data columns (total 6 columns):\n",
      " #   Column             Non-Null Count  Dtype  \n",
      "---  ------             --------------  -----  \n",
      " 0   CVE_ID             12904 non-null  object \n",
      " 1   CAPEC_ID           12904 non-null  float64\n",
      " 2   Similarity_Score   12904 non-null  float64\n",
      " 3   CVE_Description    12904 non-null  object \n",
      " 4   CAPEC_Description  12904 non-null  object \n",
      " 5   Execution Flow     12904 non-null  object \n",
      "dtypes: float64(2), object(4)\n",
      "memory usage: 605.0+ KB\n"
     ]
    }
   ],
   "source": [
    "data.info()"
   ]
  },
  {
   "cell_type": "code",
   "execution_count": 181,
   "id": "6e87b2d3-b355-4bac-9902-ced50dcd72a8",
   "metadata": {},
   "outputs": [
    {
     "data": {
      "text/plain": [
       "CVE_ID               0\n",
       "CAPEC_ID             0\n",
       "Similarity_Score     0\n",
       "CVE_Description      0\n",
       "CAPEC_Description    0\n",
       "Execution Flow       0\n",
       "dtype: int64"
      ]
     },
     "execution_count": 181,
     "metadata": {},
     "output_type": "execute_result"
    }
   ],
   "source": [
    "data.isnull().sum()"
   ]
  },
  {
   "cell_type": "code",
   "execution_count": 182,
   "id": "c46e9a87-1a3e-490e-98f2-16e9a3792a36",
   "metadata": {},
   "outputs": [],
   "source": [
    "data.dropna(inplace=True)"
   ]
  },
  {
   "cell_type": "code",
   "execution_count": 183,
   "id": "44236a0e-a95b-4049-8335-cc8524845058",
   "metadata": {},
   "outputs": [
    {
     "data": {
      "text/plain": [
       "CVE_ID               0\n",
       "CAPEC_ID             0\n",
       "Similarity_Score     0\n",
       "CVE_Description      0\n",
       "CAPEC_Description    0\n",
       "Execution Flow       0\n",
       "dtype: int64"
      ]
     },
     "execution_count": 183,
     "metadata": {},
     "output_type": "execute_result"
    }
   ],
   "source": [
    "data.isnull().sum()"
   ]
  },
  {
   "cell_type": "code",
   "execution_count": 184,
   "id": "6827a44e-61e3-4e3b-8faa-8ba723e25f53",
   "metadata": {},
   "outputs": [],
   "source": [
    "df = data[['CVE_Description', 'Execution Flow']]"
   ]
  },
  {
   "cell_type": "code",
   "execution_count": 185,
   "id": "4843237b-9c22-43c3-989c-9983059c6525",
   "metadata": {},
   "outputs": [
    {
     "data": {
      "text/html": [
       "<div>\n",
       "<style scoped>\n",
       "    .dataframe tbody tr th:only-of-type {\n",
       "        vertical-align: middle;\n",
       "    }\n",
       "\n",
       "    .dataframe tbody tr th {\n",
       "        vertical-align: top;\n",
       "    }\n",
       "\n",
       "    .dataframe thead th {\n",
       "        text-align: right;\n",
       "    }\n",
       "</style>\n",
       "<table border=\"1\" class=\"dataframe\">\n",
       "  <thead>\n",
       "    <tr style=\"text-align: right;\">\n",
       "      <th></th>\n",
       "      <th>CVE_Description</th>\n",
       "      <th>Execution Flow</th>\n",
       "    </tr>\n",
       "  </thead>\n",
       "  <tbody>\n",
       "    <tr>\n",
       "      <th>0</th>\n",
       "      <td>Stimulsoft GmbH Stimulsoft Designer (Web) 2023...</td>\n",
       "      <td>::STEP:1:PHASE:Explore:DESCRIPTION:[Find targe...</td>\n",
       "    </tr>\n",
       "    <tr>\n",
       "      <th>1</th>\n",
       "      <td>FoodCoopShop is open source software for food ...</td>\n",
       "      <td>::STEP:1:PHASE:Explore:DESCRIPTION:[Find targe...</td>\n",
       "    </tr>\n",
       "    <tr>\n",
       "      <th>2</th>\n",
       "      <td>Kirby is a content management system. A vulner...</td>\n",
       "      <td>::STEP:1:PHASE:Explore:DESCRIPTION:[Survey the...</td>\n",
       "    </tr>\n",
       "    <tr>\n",
       "      <th>3</th>\n",
       "      <td>RSSHub is an open source RSS feed generator. R...</td>\n",
       "      <td>::STEP:1:PHASE:Explore:DESCRIPTION:[Find targe...</td>\n",
       "    </tr>\n",
       "    <tr>\n",
       "      <th>4</th>\n",
       "      <td>A vulnerability has been found in SourceCodest...</td>\n",
       "      <td>::STEP:1:PHASE:Explore:DESCRIPTION:[Survey the...</td>\n",
       "    </tr>\n",
       "  </tbody>\n",
       "</table>\n",
       "</div>"
      ],
      "text/plain": [
       "                                     CVE_Description  \\\n",
       "0  Stimulsoft GmbH Stimulsoft Designer (Web) 2023...   \n",
       "1  FoodCoopShop is open source software for food ...   \n",
       "2  Kirby is a content management system. A vulner...   \n",
       "3  RSSHub is an open source RSS feed generator. R...   \n",
       "4  A vulnerability has been found in SourceCodest...   \n",
       "\n",
       "                                      Execution Flow  \n",
       "0  ::STEP:1:PHASE:Explore:DESCRIPTION:[Find targe...  \n",
       "1  ::STEP:1:PHASE:Explore:DESCRIPTION:[Find targe...  \n",
       "2  ::STEP:1:PHASE:Explore:DESCRIPTION:[Survey the...  \n",
       "3  ::STEP:1:PHASE:Explore:DESCRIPTION:[Find targe...  \n",
       "4  ::STEP:1:PHASE:Explore:DESCRIPTION:[Survey the...  "
      ]
     },
     "execution_count": 185,
     "metadata": {},
     "output_type": "execute_result"
    }
   ],
   "source": [
    "df.head()"
   ]
  },
  {
   "cell_type": "code",
   "execution_count": 186,
   "id": "bfa082af-e40f-4493-a3b0-13bccc54daa1",
   "metadata": {},
   "outputs": [],
   "source": [
    "from transformers import BartTokenizer, BartForConditionalGeneration\n",
    "from transformers import AdamW\n",
    "import torch"
   ]
  },
  {
   "cell_type": "code",
   "execution_count": 187,
   "id": "bc766aee-49e3-46d2-9890-35ec4297f464",
   "metadata": {},
   "outputs": [],
   "source": [
    "# ! pip3 install torch torchvision torchaudio --index-url https://download.pytorch.org/whl/cu118"
   ]
  },
  {
   "cell_type": "code",
   "execution_count": null,
   "id": "43fe89ac-975a-47dd-936c-673e2ab5314c",
   "metadata": {},
   "outputs": [],
   "source": []
  },
  {
   "cell_type": "code",
   "execution_count": 188,
   "id": "09702bfc-6b1c-4bd5-b20c-565ed01c25c6",
   "metadata": {},
   "outputs": [],
   "source": [
    "# Preprocessing Function\n",
    "def preprocess_data(cve_description, execution_flow, tokenizer):\n",
    "    \"\"\"\n",
    "    Tokenizes the CVE description and execution flow for the model.\n",
    "    \"\"\"\n",
    "    input_text = f\"generate execution flow: {cve_description}\"\n",
    "    input_ids = tokenizer(input_text, return_tensors=\"pt\", padding=True, truncation=True).input_ids\n",
    "    labels = tokenizer(execution_flow, return_tensors=\"pt\", padding=True, truncation=True).input_ids\n",
    "    return input_ids.squeeze(0), labels.squeeze(0)"
   ]
  },
  {
   "cell_type": "code",
   "execution_count": null,
   "id": "8cb098f1-bf39-4ae2-86aa-470c1013b3b0",
   "metadata": {},
   "outputs": [],
   "source": []
  },
  {
   "cell_type": "code",
   "execution_count": 189,
   "id": "dc2b0ab9-3d60-4c70-a7d6-68f5cf480eb0",
   "metadata": {},
   "outputs": [],
   "source": [
    "# Preprocess Data from DataFrame\n",
    "def preprocess_data_from_dataframe(df, tokenizer):\n",
    "    \"\"\"\n",
    "    Preprocess input data for training from a DataFrame.\n",
    "    \"\"\"\n",
    "    preprocessed_data = []\n",
    "    for _, row in df.iterrows():\n",
    "        cve_description = row['CVE_Description']\n",
    "        execution_flow = row['Execution Flow']\n",
    "        input_ids, labels = preprocess_data(cve_description, execution_flow, tokenizer)\n",
    "        preprocessed_data.append((input_ids, labels))\n",
    "    return preprocessed_data"
   ]
  },
  {
   "cell_type": "code",
   "execution_count": 190,
   "id": "2a896fdb-dd74-4c47-b783-17b0788d26b5",
   "metadata": {},
   "outputs": [],
   "source": [
    "# Function to calculate BLEU score\n",
    "def calculate_bleu_score(predictions, references):\n",
    "    \"\"\"\n",
    "    Calculate BLEU score for a list of predictions and references.\n",
    "    \"\"\"\n",
    "    bleu_scores = [sentence_bleu([ref.split()], pred.split()) for ref, pred in zip(references, predictions)]\n",
    "    avg_bleu = sum(bleu_scores) / len(bleu_scores) if len(bleu_scores) > 0 else 0\n",
    "    return avg_bleu"
   ]
  },
  {
   "cell_type": "code",
   "execution_count": null,
   "id": "ac60fbf7-1b3a-4cbb-b94e-c7f2d75fd4be",
   "metadata": {},
   "outputs": [],
   "source": []
  },
  {
   "cell_type": "code",
   "execution_count": 191,
   "id": "e89bc1a0-490a-4bc5-b407-90cb715c0813",
   "metadata": {},
   "outputs": [],
   "source": [
    "def train_model_from_dataframe(model, tokenizer, df, epochs=3, batch_size=2, lr=5e-5, val_df=None):\n",
    "    \"\"\"\n",
    "    Fine-tune the model using a DataFrame.\n",
    "    \"\"\"\n",
    "    model.train()\n",
    "    optimizer = AdamW(model.parameters(), lr=lr)\n",
    "    train_data = preprocess_data_from_dataframe(df, tokenizer)\n",
    "\n",
    "    # For tracking loss, BLEU, and accuracy\n",
    "    epoch_losses = []\n",
    "    epoch_bleu_scores = []\n",
    "    \n",
    "    for epoch in range(epochs):\n",
    "        print(f\"Epoch {epoch + 1}/{epochs}\")\n",
    "        total_loss = 0\n",
    "        predictions = []\n",
    "        references = []\n",
    "\n",
    "        for i in range(0, len(train_data), batch_size):\n",
    "            batch = train_data[i:i + batch_size]\n",
    "            input_ids, labels = [], []\n",
    "\n",
    "            for cve_desc, exec_flow in batch:\n",
    "                input_ids.append(cve_desc)\n",
    "                labels.append(exec_flow)\n",
    "\n",
    "            input_ids = torch.nn.utils.rnn.pad_sequence(input_ids, batch_first=True).to(model.device)\n",
    "            labels = torch.nn.utils.rnn.pad_sequence(labels, batch_first=True).to(model.device)\n",
    "\n",
    "            outputs = model(input_ids=input_ids, labels=labels)\n",
    "            loss = outputs.loss\n",
    "            total_loss += loss.item()\n",
    "\n",
    "            loss.backward()\n",
    "            optimizer.step()\n",
    "            optimizer.zero_grad()\n",
    "\n",
    "        avg_loss = total_loss / len(train_data)\n",
    "        epoch_losses.append(avg_loss)\n",
    "\n",
    "        # Evaluate on validation data and calculate BLEU score\n",
    "        if val_df is not None:\n",
    "            model.eval()\n",
    "            val_predictions = []\n",
    "            val_references = []\n",
    "            total_val_loss = 0\n",
    "\n",
    "            for _, row in val_df.iterrows():\n",
    "                cve_description = row['CVE_Description']\n",
    "                actual_execution_flow = row['Execution Flow']\n",
    "                generated_flow = generate_execution_flow(model, tokenizer, cve_description)\n",
    "                \n",
    "                # Print actual vs generated output for debugging\n",
    "                # print(f\"Generated Flow: {generated_flow}\")\n",
    "                # print(f\"Actual Execution Flow: {actual_execution_flow}\")\n",
    "                \n",
    "                val_predictions.append(generated_flow)\n",
    "                val_references.append(actual_execution_flow)\n",
    "\n",
    "                # Calculate validation loss\n",
    "                input_ids, labels = preprocess_data(cve_description, actual_execution_flow, tokenizer)\n",
    "                input_ids = input_ids.unsqueeze(0).to(model.device)\n",
    "                labels = labels.unsqueeze(0).to(model.device)\n",
    "                outputs = model(input_ids=input_ids, labels=labels)\n",
    "                val_loss = outputs.loss.item()\n",
    "                total_val_loss += val_loss\n",
    "\n",
    "            avg_val_loss = total_val_loss / len(val_df)\n",
    "            avg_bleu = calculate_bleu_score(val_predictions, val_references)\n",
    "            epoch_bleu_scores.append(avg_bleu)\n",
    "\n",
    "            print(f\"Validation Loss: {avg_val_loss:.4f}, Validation BLEU Score: {avg_bleu:.4f}\")\n",
    "        else:\n",
    "            epoch_bleu_scores.append(0)  # If no validation set, append 0 BLEU score\n",
    "            print(f\"Validation BLEU Score: 0\")\n",
    "\n",
    "        print(f\"Average Training Loss: {avg_loss:.4f}\")\n",
    "\n",
    "    return model, epoch_losses, epoch_bleu_scores"
   ]
  },
  {
   "cell_type": "code",
   "execution_count": null,
   "id": "ae9b8546-0ebb-4a8f-ad86-3d6b027db61f",
   "metadata": {},
   "outputs": [],
   "source": []
  },
  {
   "cell_type": "code",
   "execution_count": 192,
   "id": "73b1a281-170e-41c8-b292-659902b8b3c4",
   "metadata": {},
   "outputs": [],
   "source": [
    "from nltk.translate.bleu_score import sentence_bleu\n",
    "from rouge import Rouge"
   ]
  },
  {
   "cell_type": "code",
   "execution_count": 193,
   "id": "f445913c-1763-4b4b-87ac-5fe71af6323f",
   "metadata": {},
   "outputs": [],
   "source": [
    "# Function to Calculate BLEU and ROUGE Scores\n",
    "# def evaluate_model_with_text_metrics(model, tokenizer, df):\n",
    "#     model.eval()\n",
    "#     predictions = []\n",
    "#     references = []\n",
    "\n",
    "#     for _, row in df.iterrows():\n",
    "#         cve_description = row['CVE_Description']\n",
    "#         actual_execution_flow = row['Execution Flow']\n",
    "\n",
    "#         generated_flow = generate_execution_flow(model, tokenizer, cve_description)\n",
    "#         predictions.append(generated_flow)\n",
    "#         references.append(actual_execution_flow)\n",
    "\n",
    "#     # Calculate BLEU Score\n",
    "#     bleu_scores = [sentence_bleu([ref.split()], pred.split()) for ref, pred in zip(references, predictions)]\n",
    "#     avg_bleu = sum(bleu_scores) / len(bleu_scores)\n",
    "\n",
    "#     # Calculate ROUGE Scores\n",
    "#     rouge = Rouge()\n",
    "#     rouge_scores = rouge.get_scores(predictions, references, avg=True)\n",
    "\n",
    "#     print(f\"Average BLEU Score: {avg_bleu:.4f}\")\n",
    "#     print(f\"ROUGE Scores: {rouge_scores}\")\n",
    "\n",
    "#     return avg_bleu, rouge_scores\n",
    "def evaluate_model_with_text_metrics(model, tokenizer, df):\n",
    "    model.eval()\n",
    "    predictions = []\n",
    "    references = []\n",
    "\n",
    "    for _, row in df.iterrows():\n",
    "        cve_description = row['CVE_Description']\n",
    "        actual_execution_flow = row['Execution Flow']\n",
    "\n",
    "        generated_flow = generate_execution_flow(model, tokenizer, cve_description)\n",
    "        predictions.append(generated_flow)\n",
    "        references.append(actual_execution_flow)\n",
    "\n",
    "    # Calculate BLEU Score\n",
    "    bleu_scores = [sentence_bleu([ref.split()], pred.split()) for ref, pred in zip(references, predictions)]\n",
    "    avg_bleu = sum(bleu_scores) / len(bleu_scores)\n",
    "\n",
    "    print(f\"Average BLEU Score: {avg_bleu:.4f}\")\n",
    "\n",
    "    # Return only BLEU Score\n",
    "    return avg_bleu\n",
    "\n",
    "\n",
    "\n"
   ]
  },
  {
   "cell_type": "code",
   "execution_count": 194,
   "id": "a3498753-9ef5-4630-adb9-9f6b501045de",
   "metadata": {},
   "outputs": [],
   "source": [
    "# Function to plot training progress\n",
    "def plot_training_progress(epoch_losses, epoch_bleu_scores):\n",
    "    \"\"\"\n",
    "    Plot the training progress including loss and BLEU score.\n",
    "    \"\"\"\n",
    "    epochs = range(1, len(epoch_losses) + 1)\n",
    "    \n",
    "    plt.figure(figsize=(10, 5))\n",
    "\n",
    "    # Plot loss\n",
    "    plt.subplot(1, 2, 1)\n",
    "    plt.plot(epochs, epoch_losses, label='Training Loss', color='blue')\n",
    "    plt.xlabel('Epochs')\n",
    "    plt.ylabel('Loss')\n",
    "    plt.title('Training Loss vs Epochs')\n",
    "\n",
    "    # Plot BLEU Score\n",
    "    plt.subplot(1, 2, 2)\n",
    "    plt.plot(epochs, epoch_bleu_scores, label='Validation BLEU Score', color='green')\n",
    "    plt.xlabel('Epochs')\n",
    "    plt.ylabel('BLEU Score')\n",
    "    plt.title('Validation BLEU Score vs Epochs')\n",
    "\n",
    "    plt.tight_layout()\n",
    "    plt.show()"
   ]
  },
  {
   "cell_type": "code",
   "execution_count": null,
   "id": "a64da81e-d20c-4040-bfc7-1a1cc54e3e70",
   "metadata": {},
   "outputs": [],
   "source": []
  },
  {
   "cell_type": "code",
   "execution_count": 195,
   "id": "18eb51aa-2d63-4f36-8574-7b9ac096dbda",
   "metadata": {},
   "outputs": [],
   "source": [
    "# Function to generate execution flow (for evaluation)\n",
    "def generate_execution_flow(model, tokenizer, cve_description):\n",
    "    \"\"\"\n",
    "    Generate the execution flow for a given CVE description.\n",
    "    \"\"\"\n",
    "    model.eval()\n",
    "    device = model.device\n",
    "\n",
    "    input_text = f\"generate execution flow for the given CVE description: {cve_description}\"\n",
    "    input_ids = tokenizer(input_text, return_tensors=\"pt\", padding=True, truncation=True).input_ids.to(device)\n",
    "\n",
    "    output_ids = model.generate(\n",
    "        input_ids,\n",
    "        max_length=1000,\n",
    "        num_beams=4,\n",
    "        temperature=0.7,\n",
    "        top_k=50,\n",
    "        early_stopping=True\n",
    "    )\n",
    "    execution_flow = tokenizer.decode(output_ids[0], skip_special_tokens=True)\n",
    "    return execution_flow\n"
   ]
  },
  {
   "cell_type": "code",
   "execution_count": 196,
   "id": "455b67dd-e908-42b8-b396-d6c16ba4c56d",
   "metadata": {},
   "outputs": [],
   "source": [
    "# train model"
   ]
  },
  {
   "cell_type": "code",
   "execution_count": 197,
   "id": "bad0090e-21a6-42a9-a9e3-ab8e8e7dcbdb",
   "metadata": {},
   "outputs": [],
   "source": [
    "# from transformers import T5ForConditionalGeneration, T5Tokenizer\n",
    "\n",
    "# # Load the pre-trained T5 model and tokenizer\n",
    "# tokenizer = T5Tokenizer.from_pretrained(\"t5-small\")\n",
    "# model = T5ForConditionalGeneration.from_pretrained(\"t5-small\")\n",
    "\n",
    "# from transformers import AutoTokenizer, AutoModelForSeq2SeqLM\n",
    "\n",
    "# tokenizer = AutoTokenizer.from_pretrained(\"google-t5/t5-small\")\n",
    "# model = AutoModelForSeq2SeqLM.from_pretrained(\"google-t5/t5-small\")\n",
    "\n"
   ]
  },
  {
   "cell_type": "code",
   "execution_count": 198,
   "id": "1d242d0b-81d4-4444-a0a6-ba378e2db97c",
   "metadata": {},
   "outputs": [],
   "source": [
    "model_name = \"facebook/bart-base\"\n",
    "tokenizer = BartTokenizer.from_pretrained(model_name)\n",
    "model = BartForConditionalGeneration.from_pretrained(model_name).to(\"cuda\" if torch.cuda.is_available() else \"cpu\")"
   ]
  },
  {
   "cell_type": "code",
   "execution_count": 199,
   "id": "a81aa782-2755-4d17-92c0-0655bdf177ed",
   "metadata": {},
   "outputs": [],
   "source": [
    "# Function 6: Fine-tune the Model\n",
    "\n",
    "def fine_tune_t5_model(df, val_df, model, tokenizer, epochs=3, batch_size=2, lr=5e-5):\n",
    "    \"\"\"\n",
    "    Fine-tune the T5 model and evaluate it.\n",
    "    \"\"\"\n",
    "\n",
    "    # Train the model\n",
    "    print(\"Starting training...\")\n",
    "    model, epoch_losses, epoch_bleu_scores = train_model_from_dataframe(model, tokenizer, df, epochs=epochs, batch_size=batch_size, lr=lr, val_df=val_df)\n",
    "\n",
    "    # Plot training progress\n",
    "    plot_training_progress(epoch_losses, epoch_bleu_scores)\n",
    "\n",
    "    # Evaluate the model\n",
    "    print(\"Evaluating model...\")\n",
    "    # accuracy = evaluate_model(model, tokenizer, df)\n",
    "    avg_bleu = evaluate_model_with_text_metrics(model, tokenizer, df)\n",
    "\n",
    "    # print(f\"Average BLEU Score: {avg_bleu:.4f}\")\n",
    "    # print(f\"ROUGE Scores: {rouge_scores}\")\n",
    "    \n",
    "    return model"
   ]
  },
  {
   "cell_type": "code",
   "execution_count": 200,
   "id": "581f0592-9374-446e-a188-2f868b28b0f9",
   "metadata": {},
   "outputs": [],
   "source": [
    "data = df.head(250)"
   ]
  },
  {
   "cell_type": "code",
   "execution_count": 201,
   "id": "ed639429-c93a-4343-854b-45e42bab8a00",
   "metadata": {},
   "outputs": [
    {
     "data": {
      "text/plain": [
       "(250, 2)"
      ]
     },
     "execution_count": 201,
     "metadata": {},
     "output_type": "execute_result"
    }
   ],
   "source": [
    "data.shape"
   ]
  },
  {
   "cell_type": "code",
   "execution_count": 202,
   "id": "8eec9ad8-55ca-4376-9f07-3577eaa38873",
   "metadata": {},
   "outputs": [],
   "source": [
    "from sklearn.model_selection import train_test_split\n",
    "\n",
    "# Split your dataframe into training and validation sets (80% for training, 20% for validation)\n",
    "train_df, val_df = train_test_split(data, test_size=0.2, random_state=42)"
   ]
  },
  {
   "cell_type": "code",
   "execution_count": 203,
   "id": "6d131869-3a36-46e1-96b9-6ec37c4d38b8",
   "metadata": {},
   "outputs": [
    {
     "name": "stderr",
     "output_type": "stream",
     "text": [
      "/home/shalini/kmsha_mtp/lib/python3.12/site-packages/transformers/optimization.py:591: FutureWarning: This implementation of AdamW is deprecated and will be removed in a future version. Use the PyTorch implementation torch.optim.AdamW instead, or set `no_deprecation_warning=True` to disable this warning\n",
      "  warnings.warn(\n",
      "Asking to truncate to max_length but no maximum length is provided and the model has no predefined maximum length. Default to no truncation.\n"
     ]
    },
    {
     "name": "stdout",
     "output_type": "stream",
     "text": [
      "Starting training...\n",
      "Epoch 1/50\n"
     ]
    },
    {
     "name": "stderr",
     "output_type": "stream",
     "text": [
      "/home/shalini/kmsha_mtp/lib/python3.12/site-packages/transformers/generation/configuration_utils.py:628: UserWarning: `do_sample` is set to `False`. However, `temperature` is set to `0.7` -- this flag is only used in sample-based generation modes. You should set `do_sample=True` or unset `temperature`.\n",
      "  warnings.warn(\n",
      "/home/shalini/kmsha_mtp/lib/python3.12/site-packages/nltk/translate/bleu_score.py:577: UserWarning: \n",
      "The hypothesis contains 0 counts of 3-gram overlaps.\n",
      "Therefore the BLEU score evaluates to 0, independently of\n",
      "how many N-gram overlaps of lower order it contains.\n",
      "Consider using lower n-gram order or use SmoothingFunction()\n",
      "  warnings.warn(_msg)\n",
      "/home/shalini/kmsha_mtp/lib/python3.12/site-packages/nltk/translate/bleu_score.py:577: UserWarning: \n",
      "The hypothesis contains 0 counts of 4-gram overlaps.\n",
      "Therefore the BLEU score evaluates to 0, independently of\n",
      "how many N-gram overlaps of lower order it contains.\n",
      "Consider using lower n-gram order or use SmoothingFunction()\n",
      "  warnings.warn(_msg)\n",
      "/home/shalini/kmsha_mtp/lib/python3.12/site-packages/nltk/translate/bleu_score.py:577: UserWarning: \n",
      "The hypothesis contains 0 counts of 2-gram overlaps.\n",
      "Therefore the BLEU score evaluates to 0, independently of\n",
      "how many N-gram overlaps of lower order it contains.\n",
      "Consider using lower n-gram order or use SmoothingFunction()\n",
      "  warnings.warn(_msg)\n"
     ]
    },
    {
     "name": "stdout",
     "output_type": "stream",
     "text": [
      "Validation Loss: 1.2902, Validation BLEU Score: 0.0240\n",
      "Average Training Loss: 1.0251\n",
      "Epoch 2/50\n",
      "Validation Loss: 0.6132, Validation BLEU Score: 0.0230\n",
      "Average Training Loss: 0.3084\n",
      "Epoch 3/50\n",
      "Validation Loss: 0.4016, Validation BLEU Score: 0.0741\n",
      "Average Training Loss: 0.1337\n",
      "Epoch 4/50\n",
      "Validation Loss: 0.3179, Validation BLEU Score: 0.0751\n",
      "Average Training Loss: 0.1367\n",
      "Epoch 5/50\n",
      "Validation Loss: 0.2647, Validation BLEU Score: 0.0191\n",
      "Average Training Loss: 0.0406\n",
      "Epoch 6/50\n",
      "Validation Loss: 0.2497, Validation BLEU Score: 0.0330\n",
      "Average Training Loss: 0.0212\n",
      "Epoch 7/50\n",
      "Validation Loss: 0.2542, Validation BLEU Score: 0.0237\n",
      "Average Training Loss: 0.0149\n",
      "Epoch 8/50\n",
      "Validation Loss: 0.2347, Validation BLEU Score: 0.0358\n",
      "Average Training Loss: 0.0122\n",
      "Epoch 9/50\n",
      "Validation Loss: 0.2394, Validation BLEU Score: 0.0377\n",
      "Average Training Loss: 0.0073\n",
      "Epoch 10/50\n",
      "Validation Loss: 0.2389, Validation BLEU Score: 0.0423\n",
      "Average Training Loss: 0.0050\n",
      "Epoch 11/50\n",
      "Validation Loss: 0.2376, Validation BLEU Score: 0.0511\n",
      "Average Training Loss: 0.0039\n",
      "Epoch 12/50\n",
      "Validation Loss: 0.2385, Validation BLEU Score: 0.0695\n",
      "Average Training Loss: 0.0028\n",
      "Epoch 13/50\n",
      "Validation Loss: 0.2397, Validation BLEU Score: 0.0379\n",
      "Average Training Loss: 0.0022\n",
      "Epoch 14/50\n",
      "Validation Loss: 0.2411, Validation BLEU Score: 0.0604\n",
      "Average Training Loss: 0.0017\n",
      "Epoch 15/50\n",
      "Validation Loss: 0.2407, Validation BLEU Score: 0.0785\n",
      "Average Training Loss: 0.0014\n",
      "Epoch 16/50\n",
      "Validation Loss: 0.2408, Validation BLEU Score: 0.1096\n",
      "Average Training Loss: 0.0011\n",
      "Epoch 17/50\n",
      "Validation Loss: 0.2455, Validation BLEU Score: 0.0983\n",
      "Average Training Loss: 0.0015\n",
      "Epoch 18/50\n",
      "Validation Loss: 0.2455, Validation BLEU Score: 0.1045\n",
      "Average Training Loss: 0.0014\n",
      "Epoch 19/50\n",
      "Validation Loss: 0.2427, Validation BLEU Score: 0.0895\n",
      "Average Training Loss: 0.0018\n",
      "Epoch 20/50\n",
      "Validation Loss: 0.2596, Validation BLEU Score: 0.0765\n",
      "Average Training Loss: 0.0026\n",
      "Epoch 21/50\n",
      "Validation Loss: 0.2794, Validation BLEU Score: 0.0726\n",
      "Average Training Loss: 0.0094\n",
      "Epoch 22/50\n",
      "Validation Loss: 0.2944, Validation BLEU Score: 0.0545\n",
      "Average Training Loss: 0.0159\n",
      "Epoch 23/50\n",
      "Validation Loss: 0.2620, Validation BLEU Score: 0.1191\n",
      "Average Training Loss: 0.0090\n",
      "Epoch 24/50\n",
      "Validation Loss: 0.2739, Validation BLEU Score: 0.0462\n",
      "Average Training Loss: 0.0037\n",
      "Epoch 25/50\n",
      "Validation Loss: 0.2594, Validation BLEU Score: 0.0857\n",
      "Average Training Loss: 0.0025\n",
      "Epoch 26/50\n",
      "Validation Loss: 0.2573, Validation BLEU Score: 0.0746\n",
      "Average Training Loss: 0.0011\n",
      "Epoch 27/50\n",
      "Validation Loss: 0.2572, Validation BLEU Score: 0.0779\n",
      "Average Training Loss: 0.0004\n",
      "Epoch 28/50\n",
      "Validation Loss: 0.2570, Validation BLEU Score: 0.0511\n",
      "Average Training Loss: 0.0002\n",
      "Epoch 29/50\n",
      "Validation Loss: 0.2580, Validation BLEU Score: 0.0614\n",
      "Average Training Loss: 0.0002\n",
      "Epoch 30/50\n",
      "Validation Loss: 0.2587, Validation BLEU Score: 0.0498\n",
      "Average Training Loss: 0.0001\n",
      "Epoch 31/50\n",
      "Validation Loss: 0.2593, Validation BLEU Score: 0.0505\n",
      "Average Training Loss: 0.0001\n",
      "Epoch 32/50\n",
      "Validation Loss: 0.2599, Validation BLEU Score: 0.0527\n",
      "Average Training Loss: 0.0001\n",
      "Epoch 33/50\n",
      "Validation Loss: 0.2604, Validation BLEU Score: 0.0634\n",
      "Average Training Loss: 0.0001\n",
      "Epoch 34/50\n",
      "Validation Loss: 0.2609, Validation BLEU Score: 0.0643\n",
      "Average Training Loss: 0.0001\n",
      "Epoch 35/50\n",
      "Validation Loss: 0.2614, Validation BLEU Score: 0.0587\n",
      "Average Training Loss: 0.0001\n",
      "Epoch 36/50\n",
      "Validation Loss: 0.2618, Validation BLEU Score: 0.0620\n",
      "Average Training Loss: 0.0001\n",
      "Epoch 37/50\n",
      "Validation Loss: 0.2623, Validation BLEU Score: 0.0784\n",
      "Average Training Loss: 0.0001\n",
      "Epoch 38/50\n",
      "Validation Loss: 0.2627, Validation BLEU Score: 0.0704\n",
      "Average Training Loss: 0.0001\n",
      "Epoch 39/50\n",
      "Validation Loss: 0.2631, Validation BLEU Score: 0.0764\n",
      "Average Training Loss: 0.0001\n",
      "Epoch 40/50\n",
      "Validation Loss: 0.2635, Validation BLEU Score: 0.0649\n",
      "Average Training Loss: 0.0001\n",
      "Epoch 41/50\n",
      "Validation Loss: 0.2639, Validation BLEU Score: 0.0613\n",
      "Average Training Loss: 0.0001\n",
      "Epoch 42/50\n",
      "Validation Loss: 0.2642, Validation BLEU Score: 0.0577\n",
      "Average Training Loss: 0.0000\n",
      "Epoch 43/50\n",
      "Validation Loss: 0.2646, Validation BLEU Score: 0.0402\n",
      "Average Training Loss: 0.0000\n",
      "Epoch 44/50\n",
      "Validation Loss: 0.2650, Validation BLEU Score: 0.0377\n",
      "Average Training Loss: 0.0000\n",
      "Epoch 45/50\n",
      "Validation Loss: 0.2654, Validation BLEU Score: 0.0386\n",
      "Average Training Loss: 0.0000\n",
      "Epoch 46/50\n",
      "Validation Loss: 0.2657, Validation BLEU Score: 0.0407\n",
      "Average Training Loss: 0.0000\n",
      "Epoch 47/50\n",
      "Validation Loss: 0.2661, Validation BLEU Score: 0.0357\n",
      "Average Training Loss: 0.0000\n",
      "Epoch 48/50\n",
      "Validation Loss: 0.2665, Validation BLEU Score: 0.0444\n",
      "Average Training Loss: 0.0000\n",
      "Epoch 49/50\n",
      "Validation Loss: 0.2668, Validation BLEU Score: 0.0400\n",
      "Average Training Loss: 0.0000\n",
      "Epoch 50/50\n",
      "Validation Loss: 0.2672, Validation BLEU Score: 0.0445\n",
      "Average Training Loss: 0.0000\n"
     ]
    },
    {
     "data": {
      "image/png": "[encoded data removed]",
      "text/plain": [
       "<Figure size 1000x500 with 2 Axes>"
      ]
     },
     "metadata": {},
     "output_type": "display_data"
    },
    {
     "name": "stdout",
     "output_type": "stream",
     "text": [
      "Evaluating model...\n",
      "Average BLEU Score: 0.0996\n"
     ]
    }
   ],
   "source": [
    "fine_tuned_model = fine_tune_t5_model(train_df, val_df, model, tokenizer, epochs=50)"
   ]
  },
  {
   "cell_type": "code",
   "execution_count": null,
   "id": "093e0215-4474-44d8-b5ad-fa76bcaf80d3",
   "metadata": {},
   "outputs": [],
   "source": []
  },
  {
   "cell_type": "markdown",
   "id": "4d21e0d7-7dda-4249-89d6-be618aa12298",
   "metadata": {},
   "source": [
    "The **BLEU score** ranges from 0 to 1:<br>\n",
    "1. A BLEU score of 1 means a perfect match between the generated output and reference texts.<br>\n",
    "2. A BLEU score of 0 means no overlap between the generated output and reference texts.<br>\n",
    "\n",
    "In practice, BLEU scores typically range between 0 and 1, where scores above 0.7 are generally considered good, but this can vary depending on the task and dataset.\n"
   ]
  },
  {
   "cell_type": "code",
   "execution_count": null,
   "id": "5a3b0d59-e535-4d9e-8b0f-82cf5c1bd393",
   "metadata": {},
   "outputs": [],
   "source": []
  },
  {
   "cell_type": "code",
   "execution_count": null,
   "id": "0e06285d-3d06-4dc5-bf60-cff18126cc8c",
   "metadata": {},
   "outputs": [],
   "source": []
  },
  {
   "cell_type": "code",
   "execution_count": 204,
   "id": "19e7545c-5074-4484-843a-96e11615533f",
   "metadata": {},
   "outputs": [
    {
     "name": "stdout",
     "output_type": "stream",
     "text": [
      "\n",
      "Generated Execution Flow:\n",
      "::STEP:1:PHASE:Explore:DESCRIPTION:[Survey the application for stored user-controllable inputs] Using a browser or an automated tool, an adversary follows all public links and actions on a web site. They record all areas that allow a user to upload content through an HTTP POST request. This is typically found in blogs or forums.:TECHNIQUE:Use a spidering tool to follow and record all links and analyze the web pages to find entry points. Make special note of any links that include parameters in the URL.:Tek/UI:On a machine that uses a WS-Referral service, the adversary uses a tool such as the OSX otool utility or manually probes whether the application uses dynamically linked libraries and the configuration of the file or look up table (such as Procedure Linkage Table) which contains the entries for dynamically linked URLs.::\n"
     ]
    }
   ],
   "source": [
    "# Test Prediction\n",
    "new_cve_description = \"A vulnerability was found in Netis Netcore Router up to 2.2.6. It has been declared as problematic. Affected by this vulnerability is an unknown functionality of the file param.file.tgz of the component Backup Handler. The manipulation leads to information disclosure. The attack can be launched remotely. The associated identifier of this vulnerability is VDB-217591.\"\n",
    "execution_flow = generate_execution_flow(fine_tuned_model, tokenizer, new_cve_description)\n",
    "\n",
    "print(\"\\nGenerated Execution Flow:\")\n",
    "print(execution_flow)"
   ]
  },
  {
   "cell_type": "markdown",
   "id": "29b214ff",
   "metadata": {},
   "source": []
  },
  {
   "cell_type": "code",
   "execution_count": null,
   "id": "a452a7ca-bd5d-4c96-9bb5-f40b5861fc83",
   "metadata": {},
   "outputs": [],
   "source": []
  },
  {
   "cell_type": "code",
   "execution_count": 205,
   "id": "927b5b9c-0a18-431a-81f7-833e4eb57c46",
   "metadata": {},
   "outputs": [
    {
     "name": "stderr",
     "output_type": "stream",
     "text": [
      "/home/shalini/kmsha_mtp/lib/python3.12/site-packages/transformers/modeling_utils.py:2817: UserWarning: Moving the following attributes in the config to the generation config: {'early_stopping': True, 'num_beams': 4, 'no_repeat_ngram_size': 3, 'forced_bos_token_id': 0}. You are seeing this warning because you've set generation parameters in the model config, as opposed to in the generation config.\n",
      "  warnings.warn(\n"
     ]
    },
    {
     "name": "stdout",
     "output_type": "stream",
     "text": [
      "Fine-tuned model and tokenizer saved to ./BARTmodel_with_bleu_score\n"
     ]
    }
   ],
   "source": [
    "# Assuming you have a fine-tuned model and tokenizer\n",
    "fine_tuned_model = fine_tuned_model  # Replace with your fine-tuned model variable\n",
    "fine_tuned_tokenizer = tokenizer  # Replace with your fine-tuned tokenizer variable\n",
    "\n",
    "# Specify the directory to save the fine-tuned model and tokenizer\n",
    "output_dir = \"./BARTmodel_with_bleu_score\"\n",
    "\n",
    "# Save the model and tokenizer\n",
    "fine_tuned_model.save_pretrained(output_dir)\n",
    "fine_tuned_tokenizer.save_pretrained(output_dir)\n",
    "\n",
    "print(f\"Fine-tuned model and tokenizer saved to {output_dir}\")"
   ]
  },
  {
   "cell_type": "code",
   "execution_count": null,
   "id": "cd3c7d02-53c2-4e34-8628-f9e706e50001",
   "metadata": {},
   "outputs": [],
   "source": []
  },
  {
   "cell_type": "code",
   "execution_count": 206,
   "id": "8871bdaf-f4f0-4b67-aff5-42b8ea124ece",
   "metadata": {},
   "outputs": [
    {
     "ename": "NameError",
     "evalue": "name 'T5ForConditionalGeneration' is not defined",
     "output_type": "error",
     "traceback": [
      "\u001b[0;31m---------------------------------------------------------------------------\u001b[0m",
      "\u001b[0;31mNameError\u001b[0m                                 Traceback (most recent call last)",
      "Cell \u001b[0;32mIn[206], line 5\u001b[0m\n\u001b[1;32m      2\u001b[0m saved_model_dir \u001b[38;5;241m=\u001b[39m \u001b[38;5;124m\"\u001b[39m\u001b[38;5;124m./BARTmodel_with_bleu_score\u001b[39m\u001b[38;5;124m\"\u001b[39m\n\u001b[1;32m      4\u001b[0m \u001b[38;5;66;03m# Reload the fine-tuned model and tokenizer\u001b[39;00m\n\u001b[0;32m----> 5\u001b[0m mo \u001b[38;5;241m=\u001b[39m \u001b[43mT5ForConditionalGeneration\u001b[49m\u001b[38;5;241m.\u001b[39mfrom_pretrained(saved_model_dir)\u001b[38;5;241m.\u001b[39mto(\u001b[38;5;124m\"\u001b[39m\u001b[38;5;124mcuda\u001b[39m\u001b[38;5;124m\"\u001b[39m \u001b[38;5;28;01mif\u001b[39;00m torch\u001b[38;5;241m.\u001b[39mcuda\u001b[38;5;241m.\u001b[39mis_available() \u001b[38;5;28;01melse\u001b[39;00m \u001b[38;5;124m\"\u001b[39m\u001b[38;5;124mcpu\u001b[39m\u001b[38;5;124m\"\u001b[39m)\n\u001b[1;32m      6\u001b[0m to \u001b[38;5;241m=\u001b[39m T5Tokenizer\u001b[38;5;241m.\u001b[39mfrom_pretrained(saved_model_dir)\n\u001b[1;32m      8\u001b[0m \u001b[38;5;28mprint\u001b[39m(\u001b[38;5;124mf\u001b[39m\u001b[38;5;124m\"\u001b[39m\u001b[38;5;124mFine-tuned model and tokenizer loaded from \u001b[39m\u001b[38;5;132;01m{\u001b[39;00msaved_model_dir\u001b[38;5;132;01m}\u001b[39;00m\u001b[38;5;124m\"\u001b[39m)\n",
      "\u001b[0;31mNameError\u001b[0m: name 'T5ForConditionalGeneration' is not defined"
     ]
    }
   ],
   "source": [
    "# Load the fine-tuned model and tokenizer\n",
    "saved_model_dir = \"./BARTmodel_with_bleu_score\"\n",
    "\n",
    "# Reload the fine-tuned model and tokenizer\n",
    "mo = T5ForConditionalGeneration.from_pretrained(saved_model_dir).to(\"cuda\" if torch.cuda.is_available() else \"cpu\")\n",
    "to = T5Tokenizer.from_pretrained(saved_model_dir)\n",
    "\n",
    "print(f\"Fine-tuned model and tokenizer loaded from {saved_model_dir}\")"
   ]
  },
  {
   "cell_type": "code",
   "execution_count": null,
   "id": "96020ad0-4b34-42ff-bbe6-d760c5633637",
   "metadata": {},
   "outputs": [],
   "source": []
  },
  {
   "cell_type": "code",
   "execution_count": null,
   "id": "6ea199d1-e828-41f8-a559-fee81d76376e",
   "metadata": {},
   "outputs": [],
   "source": [
    "# Test Prediction\n",
    "new_cve_description = \"A vulnerability was found in Netis Netcore Router up to 2.2.6. It has been declared as problematic. Affected by this vulnerability is an unknown functionality of the file param.file.tgz of the component Backup Handler. The manipulation leads to information disclosure. The attack can be launched remotely. The associated identifier of this vulnerability is VDB-217591.\"\n",
    "execution_flow = generate_execution_flow(mo, to, new_cve_description)\n",
    "\n",
    "print(\"\\nGenerated Execution Flow:\")\n",
    "print(execution_flow)"
   ]
  },
  {
   "cell_type": "code",
   "execution_count": null,
   "id": "fce13800-d84f-4f49-82b1-946b867b303f",
   "metadata": {},
   "outputs": [],
   "source": []
  },
  {
   "cell_type": "code",
   "execution_count": null,
   "id": "064b285f-5f0a-4d0e-b2f1-5c1591468d17",
   "metadata": {},
   "outputs": [],
   "source": []
  }
 ],
 "metadata": {
  "kernelspec": {
   "display_name": "Python 3 (ipykernel)",
   "language": "python",
   "name": "python3"
  },
  "language_info": {
   "codemirror_mode": {
    "name": "ipython",
    "version": 3
   },
   "file_extension": ".py",
   "mimetype": "text/x-python",
   "name": "python",
   "nbconvert_exporter": "python",
   "pygments_lexer": "ipython3",
   "version": "3.12.3"
  }
 },
 "nbformat": 4,
 "nbformat_minor": 5
}
