{
 "cells": [
  {
   "cell_type": "markdown",
   "id": "8c15dce9-4456-4ca8-9622-b7f36157ccc3",
   "metadata": {},
   "source": [
    "#### load data"
   ]
  },
  {
   "cell_type": "code",
   "execution_count": 301,
   "id": "31bb57d1-4e46-4b1b-af34-012874fcf169",
   "metadata": {},
   "outputs": [
    {
     "name": "stdout",
     "output_type": "stream",
     "text": [
      "Thu Jan  2 09:18:51 2025       \n",
      "+-----------------------------------------------------------------------------------------+\n",
      "| NVIDIA-SMI 550.90.07              Driver Version: 550.90.07      CUDA Version: 12.4     |\n",
      "|-----------------------------------------+------------------------+----------------------+\n",
      "| GPU  Name                 Persistence-M | Bus-Id          Disp.A | Volatile Uncorr. ECC |\n",
      "| Fan  Temp   Perf          Pwr:Usage/Cap |           Memory-Usage | GPU-Util  Compute M. |\n",
      "|                                         |                        |               MIG M. |\n",
      "|=========================================+========================+======================|\n",
      "|   0  NVIDIA A100-SXM4-40GB          Off |   00000000:07:00.0 Off |                    0 |\n",
      "| N/A   39C    P0             81W /  400W |   39300MiB /  40960MiB |     88%      Default |\n",
      "|                                         |                        |             Disabled |\n",
      "+-----------------------------------------+------------------------+----------------------+\n",
      "|   1  NVIDIA A100-SXM4-40GB          Off |   00000000:0F:00.0 Off |                    0 |\n",
      "| N/A   29C    P0             59W /  400W |    4977MiB /  40960MiB |      0%      Default |\n",
      "|                                         |                        |             Disabled |\n",
      "+-----------------------------------------+------------------------+----------------------+\n",
      "|   2  NVIDIA A100-SXM4-40GB          Off |   00000000:47:00.0 Off |                    0 |\n",
      "| N/A   55C    P0             94W /  400W |   17611MiB /  40960MiB |     81%      Default |\n",
      "|                                         |                        |             Disabled |\n",
      "+-----------------------------------------+------------------------+----------------------+\n",
      "|   3  NVIDIA A100-SXM4-40GB          Off |   00000000:4E:00.0 Off |                    0 |\n",
      "| N/A   30C    P0             79W /  400W |    2905MiB /  40960MiB |      0%      Default |\n",
      "|                                         |                        |             Disabled |\n",
      "+-----------------------------------------+------------------------+----------------------+\n",
      "|   4  NVIDIA A100-SXM4-40GB          Off |   00000000:87:00.0 Off |                    0 |\n",
      "| N/A   37C    P0             83W /  400W |   33149MiB /  40960MiB |      0%      Default |\n",
      "|                                         |                        |             Disabled |\n",
      "+-----------------------------------------+------------------------+----------------------+\n",
      "|   5  NVIDIA A100-SXM4-40GB          Off |   00000000:90:00.0 Off |                    0 |\n",
      "| N/A   35C    P0             86W /  400W |   10341MiB /  40960MiB |      0%      Default |\n",
      "|                                         |                        |             Disabled |\n",
      "+-----------------------------------------+------------------------+----------------------+\n",
      "|   6  NVIDIA A100-SXM4-40GB          Off |   00000000:B7:00.0 Off |                    0 |\n",
      "| N/A   48C    P0            104W /  400W |     495MiB /  40960MiB |      0%      Default |\n",
      "|                                         |                        |             Disabled |\n",
      "+-----------------------------------------+------------------------+----------------------+\n",
      "|   7  NVIDIA A100-SXM4-40GB          Off |   00000000:BD:00.0 Off |                    0 |\n",
      "| N/A   34C    P0             87W /  400W |     519MiB /  40960MiB |      0%      Default |\n",
      "|                                         |                        |             Disabled |\n",
      "+-----------------------------------------+------------------------+----------------------+\n",
      "                                                                                         \n",
      "+-----------------------------------------------------------------------------------------+\n",
      "| Processes:                                                                              |\n",
      "|  GPU   GI   CI        PID   Type   Process name                              GPU Memory |\n",
      "|        ID   ID                                                               Usage      |\n",
      "|=========================================================================================|\n",
      "|    1   N/A  N/A     12650      C   /home/shalini/kmsha_mtp/bin/python3             0MiB |\n",
      "+-----------------------------------------------------------------------------------------+\n"
     ]
    }
   ],
   "source": [
    "!nvidia-smi"
   ]
  },
  {
   "cell_type": "code",
   "execution_count": 302,
   "id": "28bf4581-f360-4b54-90f8-10d0a5698ee9",
   "metadata": {},
   "outputs": [],
   "source": [
    "import os\n",
    "os.environ[\"CUDA_VISIBLE_DEVICES\"] = \"1\""
   ]
  },
  {
   "cell_type": "code",
   "execution_count": 303,
   "id": "61b67e09-8587-43b7-8585-12b237e1d864",
   "metadata": {},
   "outputs": [
    {
     "name": "stdout",
     "output_type": "stream",
     "text": [
      "Requirement already satisfied: matplotlib in /home/shalini/kmsha_mtp/lib/python3.12/site-packages (3.10.0)\n",
      "Requirement already satisfied: contourpy>=1.0.1 in /home/shalini/kmsha_mtp/lib/python3.12/site-packages (from matplotlib) (1.3.1)\n",
      "Requirement already satisfied: cycler>=0.10 in /home/shalini/kmsha_mtp/lib/python3.12/site-packages (from matplotlib) (0.12.1)\n",
      "Requirement already satisfied: fonttools>=4.22.0 in /home/shalini/kmsha_mtp/lib/python3.12/site-packages (from matplotlib) (4.55.3)\n",
      "Requirement already satisfied: kiwisolver>=1.3.1 in /home/shalini/kmsha_mtp/lib/python3.12/site-packages (from matplotlib) (1.4.8)\n",
      "Requirement already satisfied: numpy>=1.23 in /home/shalini/kmsha_mtp/lib/python3.12/site-packages (from matplotlib) (2.2.1)\n",
      "Requirement already satisfied: packaging>=20.0 in /home/shalini/kmsha_mtp/lib/python3.12/site-packages (from matplotlib) (24.2)\n",
      "Requirement already satisfied: pillow>=8 in /home/shalini/kmsha_mtp/lib/python3.12/site-packages (from matplotlib) (11.0.0)\n",
      "Requirement already satisfied: pyparsing>=2.3.1 in /home/shalini/kmsha_mtp/lib/python3.12/site-packages (from matplotlib) (3.2.1)\n",
      "Requirement already satisfied: python-dateutil>=2.7 in /home/shalini/kmsha_mtp/lib/python3.12/site-packages (from matplotlib) (2.9.0.post0)\n",
      "Requirement already satisfied: six>=1.5 in /home/shalini/kmsha_mtp/lib/python3.12/site-packages (from python-dateutil>=2.7->matplotlib) (1.17.0)\n"
     ]
    }
   ],
   "source": [
    "!pip install matplotlib\n"
   ]
  },
  {
   "cell_type": "code",
   "execution_count": 304,
   "id": "dc8cc348-628d-4285-8ca4-9b35f80fe7a3",
   "metadata": {},
   "outputs": [],
   "source": [
    "import pandas as pd\n",
    "import numpy as np\n",
    "import matplotlib.pyplot as plt"
   ]
  },
  {
   "cell_type": "code",
   "execution_count": 305,
   "id": "563aa5c8-13bb-4ea8-b294-d995c6bdf234",
   "metadata": {},
   "outputs": [],
   "source": [
    "data = pd.read_csv(\"Project_final_data.csv\")"
   ]
  },
  {
   "cell_type": "code",
   "execution_count": 306,
   "id": "0d70e058-a9ad-45ec-b76e-770ed2ba8aa6",
   "metadata": {},
   "outputs": [
    {
     "data": {
      "text/html": [
       "<div>\n",
       "<style scoped>\n",
       "    .dataframe tbody tr th:only-of-type {\n",
       "        vertical-align: middle;\n",
       "    }\n",
       "\n",
       "    .dataframe tbody tr th {\n",
       "        vertical-align: top;\n",
       "    }\n",
       "\n",
       "    .dataframe thead th {\n",
       "        text-align: right;\n",
       "    }\n",
       "</style>\n",
       "<table border=\"1\" class=\"dataframe\">\n",
       "  <thead>\n",
       "    <tr style=\"text-align: right;\">\n",
       "      <th></th>\n",
       "      <th>CVE_ID</th>\n",
       "      <th>CAPEC_ID</th>\n",
       "      <th>Similarity_Score</th>\n",
       "      <th>CVE_Description</th>\n",
       "      <th>CAPEC_Description</th>\n",
       "      <th>Execution Flow</th>\n",
       "    </tr>\n",
       "  </thead>\n",
       "  <tbody>\n",
       "    <tr>\n",
       "      <th>0</th>\n",
       "      <td>CVE-2023-25262</td>\n",
       "      <td>664.0</td>\n",
       "      <td>0.555823</td>\n",
       "      <td>Stimulsoft GmbH Stimulsoft Designer (Web) 2023...</td>\n",
       "      <td>An adversary exploits improper input validatio...</td>\n",
       "      <td>::STEP:1:PHASE:Explore:DESCRIPTION:[Find targe...</td>\n",
       "    </tr>\n",
       "    <tr>\n",
       "      <th>1</th>\n",
       "      <td>CVE-2023-46725</td>\n",
       "      <td>664.0</td>\n",
       "      <td>0.552269</td>\n",
       "      <td>FoodCoopShop is open source software for food ...</td>\n",
       "      <td>An adversary exploits improper input validatio...</td>\n",
       "      <td>::STEP:1:PHASE:Explore:DESCRIPTION:[Find targe...</td>\n",
       "    </tr>\n",
       "    <tr>\n",
       "      <th>2</th>\n",
       "      <td>CVE-2023-38491</td>\n",
       "      <td>209.0</td>\n",
       "      <td>0.516406</td>\n",
       "      <td>Kirby is a content management system. A vulner...</td>\n",
       "      <td>An adversary creates a file with scripting con...</td>\n",
       "      <td>::STEP:1:PHASE:Explore:DESCRIPTION:[Survey the...</td>\n",
       "    </tr>\n",
       "    <tr>\n",
       "      <th>3</th>\n",
       "      <td>CVE-2023-22493</td>\n",
       "      <td>664.0</td>\n",
       "      <td>0.504184</td>\n",
       "      <td>RSSHub is an open source RSS feed generator. R...</td>\n",
       "      <td>An adversary exploits improper input validatio...</td>\n",
       "      <td>::STEP:1:PHASE:Explore:DESCRIPTION:[Find targe...</td>\n",
       "    </tr>\n",
       "    <tr>\n",
       "      <th>4</th>\n",
       "      <td>CVE-2023-2152</td>\n",
       "      <td>219.0</td>\n",
       "      <td>0.485873</td>\n",
       "      <td>A vulnerability has been found in SourceCodest...</td>\n",
       "      <td>An attacker subverts an intermediate system us...</td>\n",
       "      <td>::STEP:1:PHASE:Explore:DESCRIPTION:[Survey the...</td>\n",
       "    </tr>\n",
       "  </tbody>\n",
       "</table>\n",
       "</div>"
      ],
      "text/plain": [
       "           CVE_ID  CAPEC_ID  Similarity_Score  \\\n",
       "0  CVE-2023-25262     664.0          0.555823   \n",
       "1  CVE-2023-46725     664.0          0.552269   \n",
       "2  CVE-2023-38491     209.0          0.516406   \n",
       "3  CVE-2023-22493     664.0          0.504184   \n",
       "4   CVE-2023-2152     219.0          0.485873   \n",
       "\n",
       "                                     CVE_Description  \\\n",
       "0  Stimulsoft GmbH Stimulsoft Designer (Web) 2023...   \n",
       "1  FoodCoopShop is open source software for food ...   \n",
       "2  Kirby is a content management system. A vulner...   \n",
       "3  RSSHub is an open source RSS feed generator. R...   \n",
       "4  A vulnerability has been found in SourceCodest...   \n",
       "\n",
       "                                   CAPEC_Description  \\\n",
       "0  An adversary exploits improper input validatio...   \n",
       "1  An adversary exploits improper input validatio...   \n",
       "2  An adversary creates a file with scripting con...   \n",
       "3  An adversary exploits improper input validatio...   \n",
       "4  An attacker subverts an intermediate system us...   \n",
       "\n",
       "                                      Execution Flow  \n",
       "0  ::STEP:1:PHASE:Explore:DESCRIPTION:[Find targe...  \n",
       "1  ::STEP:1:PHASE:Explore:DESCRIPTION:[Find targe...  \n",
       "2  ::STEP:1:PHASE:Explore:DESCRIPTION:[Survey the...  \n",
       "3  ::STEP:1:PHASE:Explore:DESCRIPTION:[Find targe...  \n",
       "4  ::STEP:1:PHASE:Explore:DESCRIPTION:[Survey the...  "
      ]
     },
     "execution_count": 306,
     "metadata": {},
     "output_type": "execute_result"
    }
   ],
   "source": [
    "data.head()"
   ]
  },
  {
   "cell_type": "code",
   "execution_count": 307,
   "id": "e038eff0-e35b-4bcd-a3ab-d3f2ab02a31d",
   "metadata": {},
   "outputs": [
    {
     "name": "stdout",
     "output_type": "stream",
     "text": [
      "<class 'pandas.core.frame.DataFrame'>\n",
      "RangeIndex: 12904 entries, 0 to 12903\n",
      "Data columns (total 6 columns):\n",
      " #   Column             Non-Null Count  Dtype  \n",
      "---  ------             --------------  -----  \n",
      " 0   CVE_ID             12904 non-null  object \n",
      " 1   CAPEC_ID           12904 non-null  float64\n",
      " 2   Similarity_Score   12904 non-null  float64\n",
      " 3   CVE_Description    12904 non-null  object \n",
      " 4   CAPEC_Description  12904 non-null  object \n",
      " 5   Execution Flow     12904 non-null  object \n",
      "dtypes: float64(2), object(4)\n",
      "memory usage: 605.0+ KB\n"
     ]
    }
   ],
   "source": [
    "data.info()"
   ]
  },
  {
   "cell_type": "code",
   "execution_count": 308,
   "id": "6e87b2d3-b355-4bac-9902-ced50dcd72a8",
   "metadata": {},
   "outputs": [
    {
     "data": {
      "text/plain": [
       "CVE_ID               0\n",
       "CAPEC_ID             0\n",
       "Similarity_Score     0\n",
       "CVE_Description      0\n",
       "CAPEC_Description    0\n",
       "Execution Flow       0\n",
       "dtype: int64"
      ]
     },
     "execution_count": 308,
     "metadata": {},
     "output_type": "execute_result"
    }
   ],
   "source": [
    "data.isnull().sum()"
   ]
  },
  {
   "cell_type": "code",
   "execution_count": 309,
   "id": "c46e9a87-1a3e-490e-98f2-16e9a3792a36",
   "metadata": {},
   "outputs": [],
   "source": [
    "data.dropna(inplace=True)"
   ]
  },
  {
   "cell_type": "code",
   "execution_count": 310,
   "id": "44236a0e-a95b-4049-8335-cc8524845058",
   "metadata": {},
   "outputs": [
    {
     "data": {
      "text/plain": [
       "CVE_ID               0\n",
       "CAPEC_ID             0\n",
       "Similarity_Score     0\n",
       "CVE_Description      0\n",
       "CAPEC_Description    0\n",
       "Execution Flow       0\n",
       "dtype: int64"
      ]
     },
     "execution_count": 310,
     "metadata": {},
     "output_type": "execute_result"
    }
   ],
   "source": [
    "data.isnull().sum()"
   ]
  },
  {
   "cell_type": "code",
   "execution_count": 311,
   "id": "6827a44e-61e3-4e3b-8faa-8ba723e25f53",
   "metadata": {},
   "outputs": [],
   "source": [
    "df = data[['CVE_Description', 'Execution Flow']]"
   ]
  },
  {
   "cell_type": "code",
   "execution_count": 312,
   "id": "4843237b-9c22-43c3-989c-9983059c6525",
   "metadata": {},
   "outputs": [
    {
     "data": {
      "text/html": [
       "<div>\n",
       "<style scoped>\n",
       "    .dataframe tbody tr th:only-of-type {\n",
       "        vertical-align: middle;\n",
       "    }\n",
       "\n",
       "    .dataframe tbody tr th {\n",
       "        vertical-align: top;\n",
       "    }\n",
       "\n",
       "    .dataframe thead th {\n",
       "        text-align: right;\n",
       "    }\n",
       "</style>\n",
       "<table border=\"1\" class=\"dataframe\">\n",
       "  <thead>\n",
       "    <tr style=\"text-align: right;\">\n",
       "      <th></th>\n",
       "      <th>CVE_Description</th>\n",
       "      <th>Execution Flow</th>\n",
       "    </tr>\n",
       "  </thead>\n",
       "  <tbody>\n",
       "    <tr>\n",
       "      <th>0</th>\n",
       "      <td>Stimulsoft GmbH Stimulsoft Designer (Web) 2023...</td>\n",
       "      <td>::STEP:1:PHASE:Explore:DESCRIPTION:[Find targe...</td>\n",
       "    </tr>\n",
       "    <tr>\n",
       "      <th>1</th>\n",
       "      <td>FoodCoopShop is open source software for food ...</td>\n",
       "      <td>::STEP:1:PHASE:Explore:DESCRIPTION:[Find targe...</td>\n",
       "    </tr>\n",
       "    <tr>\n",
       "      <th>2</th>\n",
       "      <td>Kirby is a content management system. A vulner...</td>\n",
       "      <td>::STEP:1:PHASE:Explore:DESCRIPTION:[Survey the...</td>\n",
       "    </tr>\n",
       "    <tr>\n",
       "      <th>3</th>\n",
       "      <td>RSSHub is an open source RSS feed generator. R...</td>\n",
       "      <td>::STEP:1:PHASE:Explore:DESCRIPTION:[Find targe...</td>\n",
       "    </tr>\n",
       "    <tr>\n",
       "      <th>4</th>\n",
       "      <td>A vulnerability has been found in SourceCodest...</td>\n",
       "      <td>::STEP:1:PHASE:Explore:DESCRIPTION:[Survey the...</td>\n",
       "    </tr>\n",
       "  </tbody>\n",
       "</table>\n",
       "</div>"
      ],
      "text/plain": [
       "                                     CVE_Description  \\\n",
       "0  Stimulsoft GmbH Stimulsoft Designer (Web) 2023...   \n",
       "1  FoodCoopShop is open source software for food ...   \n",
       "2  Kirby is a content management system. A vulner...   \n",
       "3  RSSHub is an open source RSS feed generator. R...   \n",
       "4  A vulnerability has been found in SourceCodest...   \n",
       "\n",
       "                                      Execution Flow  \n",
       "0  ::STEP:1:PHASE:Explore:DESCRIPTION:[Find targe...  \n",
       "1  ::STEP:1:PHASE:Explore:DESCRIPTION:[Find targe...  \n",
       "2  ::STEP:1:PHASE:Explore:DESCRIPTION:[Survey the...  \n",
       "3  ::STEP:1:PHASE:Explore:DESCRIPTION:[Find targe...  \n",
       "4  ::STEP:1:PHASE:Explore:DESCRIPTION:[Survey the...  "
      ]
     },
     "execution_count": 312,
     "metadata": {},
     "output_type": "execute_result"
    }
   ],
   "source": [
    "df.head()"
   ]
  },
  {
   "cell_type": "code",
   "execution_count": 313,
   "id": "9c4060b1-eae5-4483-841c-5a5ea42466d5",
   "metadata": {},
   "outputs": [
    {
     "name": "stdout",
     "output_type": "stream",
     "text": [
      "Requirement already satisfied: transformers in /home/shalini/kmsha_mtp/lib/python3.12/site-packages (4.47.1)\n",
      "Requirement already satisfied: filelock in /home/shalini/kmsha_mtp/lib/python3.12/site-packages (from transformers) (3.16.1)\n",
      "Requirement already satisfied: huggingface-hub<1.0,>=0.24.0 in /home/shalini/kmsha_mtp/lib/python3.12/site-packages (from transformers) (0.27.0)\n",
      "Requirement already satisfied: numpy>=1.17 in /home/shalini/kmsha_mtp/lib/python3.12/site-packages (from transformers) (2.2.1)\n",
      "Requirement already satisfied: packaging>=20.0 in /home/shalini/kmsha_mtp/lib/python3.12/site-packages (from transformers) (24.2)\n",
      "Requirement already satisfied: pyyaml>=5.1 in /home/shalini/kmsha_mtp/lib/python3.12/site-packages (from transformers) (6.0.2)\n",
      "Requirement already satisfied: regex!=2019.12.17 in /home/shalini/kmsha_mtp/lib/python3.12/site-packages (from transformers) (2024.11.6)\n",
      "Requirement already satisfied: requests in /home/shalini/kmsha_mtp/lib/python3.12/site-packages (from transformers) (2.32.3)\n",
      "Requirement already satisfied: tokenizers<0.22,>=0.21 in /home/shalini/kmsha_mtp/lib/python3.12/site-packages (from transformers) (0.21.0)\n",
      "Requirement already satisfied: safetensors>=0.4.1 in /home/shalini/kmsha_mtp/lib/python3.12/site-packages (from transformers) (0.4.5)\n",
      "Requirement already satisfied: tqdm>=4.27 in /home/shalini/kmsha_mtp/lib/python3.12/site-packages (from transformers) (4.67.1)\n",
      "Requirement already satisfied: fsspec>=2023.5.0 in /home/shalini/kmsha_mtp/lib/python3.12/site-packages (from huggingface-hub<1.0,>=0.24.0->transformers) (2024.12.0)\n",
      "Requirement already satisfied: typing-extensions>=3.7.4.3 in /home/shalini/kmsha_mtp/lib/python3.12/site-packages (from huggingface-hub<1.0,>=0.24.0->transformers) (4.12.2)\n",
      "Requirement already satisfied: charset-normalizer<4,>=2 in /home/shalini/kmsha_mtp/lib/python3.12/site-packages (from requests->transformers) (3.4.1)\n",
      "Requirement already satisfied: idna<4,>=2.5 in /home/shalini/kmsha_mtp/lib/python3.12/site-packages (from requests->transformers) (3.10)\n",
      "Requirement already satisfied: urllib3<3,>=1.21.1 in /home/shalini/kmsha_mtp/lib/python3.12/site-packages (from requests->transformers) (2.3.0)\n",
      "Requirement already satisfied: certifi>=2017.4.17 in /home/shalini/kmsha_mtp/lib/python3.12/site-packages (from requests->transformers) (2024.12.14)\n"
     ]
    }
   ],
   "source": [
    "!pip install transformers"
   ]
  },
  {
   "cell_type": "code",
   "execution_count": 314,
   "id": "2d84b46c-8c46-4943-b599-b871a6453b54",
   "metadata": {},
   "outputs": [
    {
     "name": "stdout",
     "output_type": "stream",
     "text": [
      "Requirement already satisfied: torch in /home/shalini/kmsha_mtp/lib/python3.12/site-packages (2.5.1)\n",
      "Requirement already satisfied: torchvision in /home/shalini/kmsha_mtp/lib/python3.12/site-packages (0.20.1)\n",
      "Requirement already satisfied: torchaudio in /home/shalini/kmsha_mtp/lib/python3.12/site-packages (2.5.1)\n",
      "Requirement already satisfied: filelock in /home/shalini/kmsha_mtp/lib/python3.12/site-packages (from torch) (3.16.1)\n",
      "Requirement already satisfied: typing-extensions>=4.8.0 in /home/shalini/kmsha_mtp/lib/python3.12/site-packages (from torch) (4.12.2)\n",
      "Requirement already satisfied: networkx in /home/shalini/kmsha_mtp/lib/python3.12/site-packages (from torch) (3.4.2)\n",
      "Requirement already satisfied: jinja2 in /home/shalini/kmsha_mtp/lib/python3.12/site-packages (from torch) (3.1.5)\n",
      "Requirement already satisfied: fsspec in /home/shalini/kmsha_mtp/lib/python3.12/site-packages (from torch) (2024.12.0)\n",
      "Requirement already satisfied: nvidia-cuda-nvrtc-cu12==12.4.127 in /home/shalini/kmsha_mtp/lib/python3.12/site-packages (from torch) (12.4.127)\n",
      "Requirement already satisfied: nvidia-cuda-runtime-cu12==12.4.127 in /home/shalini/kmsha_mtp/lib/python3.12/site-packages (from torch) (12.4.127)\n",
      "Requirement already satisfied: nvidia-cuda-cupti-cu12==12.4.127 in /home/shalini/kmsha_mtp/lib/python3.12/site-packages (from torch) (12.4.127)\n",
      "Requirement already satisfied: nvidia-cudnn-cu12==9.1.0.70 in /home/shalini/kmsha_mtp/lib/python3.12/site-packages (from torch) (9.1.0.70)\n",
      "Requirement already satisfied: nvidia-cublas-cu12==12.4.5.8 in /home/shalini/kmsha_mtp/lib/python3.12/site-packages (from torch) (12.4.5.8)\n",
      "Requirement already satisfied: nvidia-cufft-cu12==11.2.1.3 in /home/shalini/kmsha_mtp/lib/python3.12/site-packages (from torch) (11.2.1.3)\n",
      "Requirement already satisfied: nvidia-curand-cu12==10.3.5.147 in /home/shalini/kmsha_mtp/lib/python3.12/site-packages (from torch) (10.3.5.147)\n",
      "Requirement already satisfied: nvidia-cusolver-cu12==11.6.1.9 in /home/shalini/kmsha_mtp/lib/python3.12/site-packages (from torch) (11.6.1.9)\n",
      "Requirement already satisfied: nvidia-cusparse-cu12==12.3.1.170 in /home/shalini/kmsha_mtp/lib/python3.12/site-packages (from torch) (12.3.1.170)\n",
      "Requirement already satisfied: nvidia-nccl-cu12==2.21.5 in /home/shalini/kmsha_mtp/lib/python3.12/site-packages (from torch) (2.21.5)\n",
      "Requirement already satisfied: nvidia-nvtx-cu12==12.4.127 in /home/shalini/kmsha_mtp/lib/python3.12/site-packages (from torch) (12.4.127)\n",
      "Requirement already satisfied: nvidia-nvjitlink-cu12==12.4.127 in /home/shalini/kmsha_mtp/lib/python3.12/site-packages (from torch) (12.4.127)\n",
      "Requirement already satisfied: triton==3.1.0 in /home/shalini/kmsha_mtp/lib/python3.12/site-packages (from torch) (3.1.0)\n",
      "Requirement already satisfied: setuptools in /home/shalini/kmsha_mtp/lib/python3.12/site-packages (from torch) (75.6.0)\n",
      "Requirement already satisfied: sympy==1.13.1 in /home/shalini/kmsha_mtp/lib/python3.12/site-packages (from torch) (1.13.1)\n",
      "Requirement already satisfied: mpmath<1.4,>=1.1.0 in /home/shalini/kmsha_mtp/lib/python3.12/site-packages (from sympy==1.13.1->torch) (1.3.0)\n",
      "Requirement already satisfied: numpy in /home/shalini/kmsha_mtp/lib/python3.12/site-packages (from torchvision) (2.2.1)\n",
      "Requirement already satisfied: pillow!=8.3.*,>=5.3.0 in /home/shalini/kmsha_mtp/lib/python3.12/site-packages (from torchvision) (11.0.0)\n",
      "Requirement already satisfied: MarkupSafe>=2.0 in /home/shalini/kmsha_mtp/lib/python3.12/site-packages (from jinja2->torch) (3.0.2)\n"
     ]
    }
   ],
   "source": [
    "!pip install torch torchvision torchaudio"
   ]
  },
  {
   "cell_type": "code",
   "execution_count": 315,
   "id": "d4b3a72f-1975-43e5-8202-3cdca428434b",
   "metadata": {},
   "outputs": [
    {
     "name": "stdout",
     "output_type": "stream",
     "text": [
      "Requirement already satisfied: scikit-learn in /home/shalini/kmsha_mtp/lib/python3.12/site-packages (1.6.0)\n",
      "Requirement already satisfied: numpy>=1.19.5 in /home/shalini/kmsha_mtp/lib/python3.12/site-packages (from scikit-learn) (2.2.1)\n",
      "Requirement already satisfied: scipy>=1.6.0 in /home/shalini/kmsha_mtp/lib/python3.12/site-packages (from scikit-learn) (1.14.1)\n",
      "Requirement already satisfied: joblib>=1.2.0 in /home/shalini/kmsha_mtp/lib/python3.12/site-packages (from scikit-learn) (1.4.2)\n",
      "Requirement already satisfied: threadpoolctl>=3.1.0 in /home/shalini/kmsha_mtp/lib/python3.12/site-packages (from scikit-learn) (3.5.0)\n"
     ]
    }
   ],
   "source": [
    "!pip install scikit-learn"
   ]
  },
  {
   "cell_type": "code",
   "execution_count": 316,
   "id": "bfa082af-e40f-4493-a3b0-13bccc54daa1",
   "metadata": {},
   "outputs": [],
   "source": [
    "from transformers import T5Tokenizer\n",
    "from transformers import T5ForConditionalGeneration, AdamW\n",
    "import torch\n",
    "from sklearn.metrics import accuracy_score"
   ]
  },
  {
   "cell_type": "code",
   "execution_count": 317,
   "id": "bc766aee-49e3-46d2-9890-35ec4297f464",
   "metadata": {},
   "outputs": [],
   "source": [
    "# ! pip3 install torch torchvision torchaudio --index-url https://download.pytorch.org/whl/cu118"
   ]
  },
  {
   "cell_type": "code",
   "execution_count": 318,
   "id": "09702bfc-6b1c-4bd5-b20c-565ed01c25c6",
   "metadata": {},
   "outputs": [],
   "source": [
    "# Preprocessing Function\n",
    "def preprocess_data(cve_description, execution_flow, tokenizer):\n",
    "    \"\"\"\n",
    "    Tokenizes the CVE description and execution flow for the model.\n",
    "    \"\"\"\n",
    "    input_text = f\"generate execution flow: {cve_description}\"\n",
    "    input_ids = tokenizer(input_text, return_tensors=\"pt\", padding=True, truncation=True).input_ids\n",
    "    labels = tokenizer(execution_flow, return_tensors=\"pt\", padding=True, truncation=True).input_ids\n",
    "    return input_ids.squeeze(0), labels.squeeze(0)"
   ]
  },
  {
   "cell_type": "code",
   "execution_count": 319,
   "id": "dc2b0ab9-3d60-4c70-a7d6-68f5cf480eb0",
   "metadata": {},
   "outputs": [],
   "source": [
    "# Preprocess Data from DataFrame\n",
    "def preprocess_data_from_dataframe(df, tokenizer):\n",
    "    \"\"\"\n",
    "    Preprocess input data for training from a DataFrame.\n",
    "    \"\"\"\n",
    "    preprocessed_data = []\n",
    "    for _, row in df.iterrows():\n",
    "        cve_description = row['CVE_Description']\n",
    "        execution_flow = row['Execution Flow']\n",
    "        input_ids, labels = preprocess_data(cve_description, execution_flow, tokenizer)\n",
    "        preprocessed_data.append((input_ids, labels))\n",
    "    return preprocessed_data"
   ]
  },
  {
   "cell_type": "code",
   "execution_count": 320,
   "id": "2a896fdb-dd74-4c47-b783-17b0788d26b5",
   "metadata": {},
   "outputs": [],
   "source": [
    "# Function to calculate BLEU score\n",
    "def calculate_bleu_score(predictions, references):\n",
    "    \"\"\"\n",
    "    Calculate BLEU score for a list of predictions and references.\n",
    "    \"\"\"\n",
    "    bleu_scores = [sentence_bleu([ref.split()], pred.split()) for ref, pred in zip(references, predictions)]\n",
    "    avg_bleu = sum(bleu_scores) / len(bleu_scores) if len(bleu_scores) > 0 else 0\n",
    "    return avg_bleu"
   ]
  },
  {
   "cell_type": "markdown",
   "id": "da2936cf-b285-45e3-a09b-58a1270b0ab1",
   "metadata": {},
   "source": [
    "def train_model_from_dataframe(model, tokenizer, df, epochs=3, batch_size=2, lr=5e-5, val_df=None):\n",
    "    \"\"\"\n",
    "    Fine-tune the model using a DataFrame.\n",
    "    \"\"\"\n",
    "    model.train()\n",
    "    optimizer = AdamW(model.parameters(), lr=lr)\n",
    "    train_data = preprocess_data_from_dataframe(df, tokenizer)\n",
    "\n",
    "    # For tracking loss, BLEU, and accuracy\n",
    "    epoch_losses = []\n",
    "    epoch_bleu_scores = []\n",
    "    \n",
    "    for epoch in range(epochs):\n",
    "        print(f\"Epoch {epoch + 1}/{epochs}\")\n",
    "        total_loss = 0\n",
    "        predictions = []\n",
    "        references = []\n",
    "\n",
    "        for i in range(0, len(train_data), batch_size):\n",
    "            batch = train_data[i:i + batch_size]\n",
    "            input_ids, labels = [], []\n",
    "\n",
    "            for cve_desc, exec_flow in batch:\n",
    "                input_ids.append(cve_desc)\n",
    "                labels.append(exec_flow)\n",
    "\n",
    "            input_ids = torch.nn.utils.rnn.pad_sequence(input_ids, batch_first=True).to(model.device)\n",
    "            labels = torch.nn.utils.rnn.pad_sequence(labels, batch_first=True).to(model.device)\n",
    "\n",
    "            outputs = model(input_ids=input_ids, labels=labels)\n",
    "            loss = outputs.loss\n",
    "            total_loss += loss.item()\n",
    "\n",
    "            loss.backward()\n",
    "            optimizer.step()\n",
    "            optimizer.zero_grad()\n",
    "\n",
    "        avg_loss = total_loss / len(train_data)\n",
    "        epoch_losses.append(avg_loss)\n",
    "\n",
    "        # Evaluate on validation data and calculate BLEU score\n",
    "        if val_df is not None:\n",
    "            model.eval()\n",
    "            val_predictions = []\n",
    "            val_references = []\n",
    "            total_val_loss = 0\n",
    "\n",
    "            for _, row in val_df.iterrows():\n",
    "                cve_description = row['Description']\n",
    "                actual_execution_flow = row['Execution Flow']\n",
    "                generated_flow = generate_execution_flow(model, tokenizer, cve_description)\n",
    "                \n",
    "                # Print actual vs generated output for debugging\n",
    "                # print(f\"Generated Flow: {generated_flow}\")\n",
    "                # print(f\"Actual Execution Flow: {actual_execution_flow}\")\n",
    "                \n",
    "                val_predictions.append(generated_flow)\n",
    "                val_references.append(actual_execution_flow)\n",
    "\n",
    "                # Calculate validation loss\n",
    "                input_ids, labels = preprocess_data(cve_description, actual_execution_flow, tokenizer)\n",
    "                input_ids = input_ids.unsqueeze(0).to(model.device)\n",
    "                labels = labels.unsqueeze(0).to(model.device)\n",
    "                outputs = model(input_ids=input_ids, labels=labels)\n",
    "                val_loss = outputs.loss.item()\n",
    "                total_val_loss += val_loss\n",
    "\n",
    "            avg_val_loss = total_val_loss / len(val_df)\n",
    "            avg_bleu = calculate_bleu_score(val_predictions, val_references)\n",
    "            epoch_bleu_scores.append(avg_bleu)\n",
    "\n",
    "            print(f\"Validation Loss: {avg_val_loss:.4f}, Validation BLEU Score: {avg_bleu:.4f}\")\n",
    "        else:\n",
    "            epoch_bleu_scores.append(0)  # If no validation set, append 0 BLEU score\n",
    "            print(f\"Validation BLEU Score: 0\")\n",
    "\n",
    "        print(f\"Average Training Loss: {avg_loss:.4f}\")\n",
    "\n",
    "    return model, epoch_losses, epoch_bleu_scores"
   ]
  },
  {
   "cell_type": "code",
   "execution_count": 321,
   "id": "80886ddc-a4d2-4a10-aad8-31d14a5ad7de",
   "metadata": {},
   "outputs": [],
   "source": [
    "from tqdm import tqdm\n",
    "import torch\n",
    "from transformers import AdamW\n",
    "\n",
    "def train_model_from_dataframe(model, tokenizer, df, epochs=3, batch_size=2, lr=5e-5, val_df=None):\n",
    "    \"\"\"\n",
    "    Fine-tune the model using a DataFrame with a real-time progress bar.\n",
    "    \"\"\"\n",
    "    model.train()\n",
    "    optimizer = AdamW(model.parameters(), lr=lr)\n",
    "    train_data = preprocess_data_from_dataframe(df, tokenizer)\n",
    "\n",
    "    # For tracking loss, BLEU, and accuracy\n",
    "    epoch_losses = []\n",
    "    epoch_bleu_scores = []\n",
    "    \n",
    "    for epoch in range(epochs):\n",
    "        print(f\"Epoch {epoch + 1}/{epochs}\")\n",
    "        total_loss = 0\n",
    "        predictions = []\n",
    "        references = []\n",
    "\n",
    "        # Create a progress bar for each epoch\n",
    "        train_progress_bar = tqdm(range(0, len(train_data), batch_size), desc=\"Training Progress\", unit=\"batch\")\n",
    "\n",
    "        for i in train_progress_bar:\n",
    "            batch = train_data[i:i + batch_size]\n",
    "            input_ids, labels = [], []\n",
    "\n",
    "            for cve_desc, exec_flow in batch:\n",
    "                input_ids.append(cve_desc)\n",
    "                labels.append(exec_flow)\n",
    "\n",
    "            input_ids = torch.nn.utils.rnn.pad_sequence(input_ids, batch_first=True).to(model.device)\n",
    "            labels = torch.nn.utils.rnn.pad_sequence(labels, batch_first=True).to(model.device)\n",
    "\n",
    "            outputs = model(input_ids=input_ids, labels=labels)\n",
    "            loss = outputs.loss\n",
    "            total_loss += loss.item()\n",
    "\n",
    "            loss.backward()\n",
    "            optimizer.step()\n",
    "            optimizer.zero_grad()\n",
    "\n",
    "            # Update progress bar with the current loss\n",
    "            train_progress_bar.set_postfix(loss=total_loss / (i + 1))\n",
    "\n",
    "        avg_loss = total_loss / len(train_data)\n",
    "        epoch_losses.append(avg_loss)\n",
    "\n",
    "        # Evaluate on validation data and calculate BLEU score\n",
    "        if val_df is not None:\n",
    "            model.eval()\n",
    "            val_predictions = []\n",
    "            val_references = []\n",
    "            total_val_loss = 0\n",
    "\n",
    "            # Create a progress bar for validation\n",
    "            val_progress_bar = tqdm(val_df.iterrows(), desc=\"Validation Progress\", unit=\"batch\", total=len(val_df))\n",
    "\n",
    "            for _, row in val_progress_bar:\n",
    "                cve_description = row['CVE_Description']\n",
    "                actual_execution_flow = row['Execution Flow']\n",
    "                generated_flow = generate_execution_flow(model, tokenizer, cve_description)\n",
    "                \n",
    "                val_predictions.append(generated_flow)\n",
    "                val_references.append(actual_execution_flow)\n",
    "\n",
    "                # Calculate validation loss\n",
    "                input_ids, labels = preprocess_data(cve_description, actual_execution_flow, tokenizer)\n",
    "                input_ids = input_ids.unsqueeze(0).to(model.device)\n",
    "                labels = labels.unsqueeze(0).to(model.device)\n",
    "                outputs = model(input_ids=input_ids, labels=labels)\n",
    "                val_loss = outputs.loss.item()\n",
    "                total_val_loss += val_loss\n",
    "\n",
    "                # Update validation progress bar\n",
    "                val_progress_bar.set_postfix(val_loss=total_val_loss / len(val_predictions))\n",
    "\n",
    "            avg_val_loss = total_val_loss / len(val_df)\n",
    "            avg_bleu = calculate_bleu_score(val_predictions, val_references)\n",
    "            epoch_bleu_scores.append(avg_bleu)\n",
    "\n",
    "            print(f\"Validation Loss: {avg_val_loss:.4f}, Validation BLEU Score: {avg_bleu:.4f}\")\n",
    "        else:\n",
    "            epoch_bleu_scores.append(0)  # If no validation set, append 0 BLEU score\n",
    "            print(f\"Validation BLEU Score: 0\")\n",
    "\n",
    "        print(f\"Average Training Loss: {avg_loss:.4f}\")\n",
    "\n",
    "    return model, epoch_losses, epoch_bleu_scores\n"
   ]
  },
  {
   "cell_type": "code",
   "execution_count": 322,
   "id": "ae9b8546-0ebb-4a8f-ad86-3d6b027db61f",
   "metadata": {},
   "outputs": [
    {
     "name": "stdout",
     "output_type": "stream",
     "text": [
      "Requirement already satisfied: nltk in /home/shalini/kmsha_mtp/lib/python3.12/site-packages (3.9.1)\n",
      "Requirement already satisfied: click in /home/shalini/kmsha_mtp/lib/python3.12/site-packages (from nltk) (8.1.8)\n",
      "Requirement already satisfied: joblib in /home/shalini/kmsha_mtp/lib/python3.12/site-packages (from nltk) (1.4.2)\n",
      "Requirement already satisfied: regex>=2021.8.3 in /home/shalini/kmsha_mtp/lib/python3.12/site-packages (from nltk) (2024.11.6)\n",
      "Requirement already satisfied: tqdm in /home/shalini/kmsha_mtp/lib/python3.12/site-packages (from nltk) (4.67.1)\n"
     ]
    }
   ],
   "source": [
    "!pip install nltk"
   ]
  },
  {
   "cell_type": "code",
   "execution_count": 323,
   "id": "c9bf6f6c-210d-4941-8977-97957d8b986f",
   "metadata": {},
   "outputs": [
    {
     "name": "stderr",
     "output_type": "stream",
     "text": [
      "[nltk_data] Downloading package punkt to /home/shalini/nltk_data...\n",
      "[nltk_data]   Package punkt is already up-to-date!\n"
     ]
    },
    {
     "data": {
      "text/plain": [
       "True"
      ]
     },
     "execution_count": 323,
     "metadata": {},
     "output_type": "execute_result"
    }
   ],
   "source": [
    "import nltk\n",
    "nltk.download('punkt')  # Commonly needed for tokenization"
   ]
  },
  {
   "cell_type": "code",
   "execution_count": 324,
   "id": "76112d9e-56bd-450d-aa66-328f607fca9b",
   "metadata": {},
   "outputs": [
    {
     "name": "stdout",
     "output_type": "stream",
     "text": [
      "Requirement already satisfied: rouge-score in /home/shalini/kmsha_mtp/lib/python3.12/site-packages (0.1.2)\n",
      "Requirement already satisfied: absl-py in /home/shalini/kmsha_mtp/lib/python3.12/site-packages (from rouge-score) (2.1.0)\n",
      "Requirement already satisfied: nltk in /home/shalini/kmsha_mtp/lib/python3.12/site-packages (from rouge-score) (3.9.1)\n",
      "Requirement already satisfied: numpy in /home/shalini/kmsha_mtp/lib/python3.12/site-packages (from rouge-score) (2.2.1)\n",
      "Requirement already satisfied: six>=1.14.0 in /home/shalini/kmsha_mtp/lib/python3.12/site-packages (from rouge-score) (1.17.0)\n",
      "Requirement already satisfied: click in /home/shalini/kmsha_mtp/lib/python3.12/site-packages (from nltk->rouge-score) (8.1.8)\n",
      "Requirement already satisfied: joblib in /home/shalini/kmsha_mtp/lib/python3.12/site-packages (from nltk->rouge-score) (1.4.2)\n",
      "Requirement already satisfied: regex>=2021.8.3 in /home/shalini/kmsha_mtp/lib/python3.12/site-packages (from nltk->rouge-score) (2024.11.6)\n",
      "Requirement already satisfied: tqdm in /home/shalini/kmsha_mtp/lib/python3.12/site-packages (from nltk->rouge-score) (4.67.1)\n"
     ]
    }
   ],
   "source": [
    "!pip install rouge-score\n"
   ]
  },
  {
   "cell_type": "code",
   "execution_count": 325,
   "id": "c0235324-65ca-485b-8162-8613143fbb6b",
   "metadata": {},
   "outputs": [
    {
     "name": "stdout",
     "output_type": "stream",
     "text": [
      "Requirement already satisfied: py-rouge in /home/shalini/kmsha_mtp/lib/python3.12/site-packages (1.1)\n"
     ]
    }
   ],
   "source": [
    "!pip install py-rouge\n"
   ]
  },
  {
   "cell_type": "code",
   "execution_count": 326,
   "id": "73b1a281-170e-41c8-b292-659902b8b3c4",
   "metadata": {},
   "outputs": [],
   "source": [
    "from nltk.translate.bleu_score import sentence_bleu\n",
    "from rouge import Rouge"
   ]
  },
  {
   "cell_type": "code",
   "execution_count": 327,
   "id": "f445913c-1763-4b4b-87ac-5fe71af6323f",
   "metadata": {},
   "outputs": [],
   "source": [
    "# Function to Calculate BLEU and ROUGE Scores\n",
    "# def evaluate_model_with_text_metrics(model, tokenizer, df):\n",
    "#     model.eval()\n",
    "#     predictions = []\n",
    "#     references = []\n",
    "\n",
    "#     for _, row in df.iterrows():\n",
    "#         cve_description = row['CVE_Description']\n",
    "#         actual_execution_flow = row['Execution Flow']\n",
    "\n",
    "#         generated_flow = generate_execution_flow(model, tokenizer, cve_description)\n",
    "#         predictions.append(generated_flow)\n",
    "#         references.append(actual_execution_flow)\n",
    "\n",
    "#     # Calculate BLEU Score\n",
    "#     bleu_scores = [sentence_bleu([ref.split()], pred.split()) for ref, pred in zip(references, predictions)]\n",
    "#     avg_bleu = sum(bleu_scores) / len(bleu_scores)\n",
    "\n",
    "#     # Calculate ROUGE Scores\n",
    "#     rouge = Rouge()\n",
    "#     rouge_scores = rouge.get_scores(predictions, references, avg=True)\n",
    "\n",
    "#     print(f\"Average BLEU Score: {avg_bleu:.4f}\")\n",
    "#     print(f\"ROUGE Scores: {rouge_scores}\")\n",
    "\n",
    "#     return avg_bleu, rouge_scores\n",
    "\n",
    "\n",
    "# Function to Calculate BLEU Score\n",
    "def evaluate_model_with_text_metrics(model, tokenizer, df):\n",
    "    model.eval()\n",
    "    predictions = []\n",
    "    references = []\n",
    "\n",
    "    for _, row in df.iterrows():\n",
    "        cve_description = row['CVE_Description']\n",
    "        actual_execution_flow = row['Execution Flow']\n",
    "\n",
    "        generated_flow = generate_execution_flow(model, tokenizer, cve_description)\n",
    "        predictions.append(generated_flow)\n",
    "        references.append(actual_execution_flow)\n",
    "\n",
    "    # Calculate BLEU Score\n",
    "    bleu_scores = [sentence_bleu([ref.split()], pred.split()) for ref, pred in zip(references, predictions)]\n",
    "    avg_bleu = sum(bleu_scores) / len(bleu_scores)\n",
    "\n",
    "    print(f\"Average BLEU Score: {avg_bleu:.4f}\")\n",
    "\n",
    "    # Return only BLEU Score\n",
    "    return avg_bleu\n",
    "\n",
    "\n",
    "\n"
   ]
  },
  {
   "cell_type": "code",
   "execution_count": 328,
   "id": "a3498753-9ef5-4630-adb9-9f6b501045de",
   "metadata": {},
   "outputs": [],
   "source": [
    "# Function to plot training progress\n",
    "def plot_training_progress(epoch_losses, epoch_bleu_scores):\n",
    "    \"\"\"\n",
    "    Plot the training progress including loss and BLEU score.\n",
    "    \"\"\"\n",
    "    epochs = range(1, len(epoch_losses) + 1)\n",
    "    \n",
    "    plt.figure(figsize=(10, 5))\n",
    "\n",
    "    # Plot loss\n",
    "    plt.subplot(1, 2, 1)\n",
    "    plt.plot(epochs, epoch_losses, label='Training Loss', color='blue')\n",
    "    plt.xlabel('Epochs')\n",
    "    plt.ylabel('Loss')\n",
    "    plt.title('Training Loss vs Epochs')\n",
    "\n",
    "    # Plot BLEU Score\n",
    "    plt.subplot(1, 2, 2)\n",
    "    plt.plot(epochs, epoch_bleu_scores, label='Validation BLEU Score', color='green')\n",
    "    plt.xlabel('Epochs')\n",
    "    plt.ylabel('BLEU Score')\n",
    "    plt.title('Validation BLEU Score vs Epochs')\n",
    "\n",
    "    plt.tight_layout()\n",
    "    plt.show()"
   ]
  },
  {
   "cell_type": "code",
   "execution_count": 352,
   "id": "18eb51aa-2d63-4f36-8574-7b9ac096dbda",
   "metadata": {},
   "outputs": [],
   "source": [
    "# Function to generate execution flow (for evaluation)\n",
    "def generate_execution_flow(model, tokenizer, cve_description):\n",
    "    \"\"\"\n",
    "    Generate the execution flow for a given CVE description.\n",
    "    \"\"\"\n",
    "    model.eval()\n",
    "    device = model.device\n",
    "\n",
    "    input_text = f\"generate execution flow for the given CVE description: {cve_description}\"\n",
    "    input_ids = tokenizer(input_text, return_tensors=\"pt\", padding=True, truncation=True).input_ids.to(device)\n",
    "\n",
    "    output_ids = model.generate(\n",
    "        input_ids,\n",
    "        max_length=1000,\n",
    "        num_beams=4,\n",
    "        temperature=0.7,\n",
    "        top_k=50,\n",
    "        early_stopping=True\n",
    "    )\n",
    "    execution_flow = tokenizer.decode(output_ids[0], skip_special_tokens=True)\n",
    "    return execution_flow\n"
   ]
  },
  {
   "cell_type": "code",
   "execution_count": 330,
   "id": "455b67dd-e908-42b8-b396-d6c16ba4c56d",
   "metadata": {},
   "outputs": [],
   "source": [
    "# train model"
   ]
  },
  {
   "cell_type": "code",
   "execution_count": 331,
   "id": "bad0090e-21a6-42a9-a9e3-ab8e8e7dcbdb",
   "metadata": {},
   "outputs": [],
   "source": [
    "# from transformers import T5ForConditionalGeneration, T5Tokenizer\n",
    "\n",
    "# # Load the pre-trained T5 model and tokenizer\n",
    "# tokenizer = T5Tokenizer.from_pretrained(\"t5-small\")\n",
    "# model = T5ForConditionalGeneration.from_pretrained(\"t5-small\")\n",
    "\n",
    "# from transformers import AutoTokenizer, AutoModelForSeq2SeqLM\n",
    "\n",
    "# tokenizer = AutoTokenizer.from_pretrained(\"google-t5/t5-small\")\n",
    "# model = AutoModelForSeq2SeqLM.from_pretrained(\"google-t5/t5-small\")\n",
    "\n"
   ]
  },
  {
   "cell_type": "code",
   "execution_count": 332,
   "id": "ebcc6cde-9ddb-4d2e-9691-f14c5e45e782",
   "metadata": {},
   "outputs": [
    {
     "name": "stdout",
     "output_type": "stream",
     "text": [
      "Requirement already satisfied: sentencepiece in /home/shalini/kmsha_mtp/lib/python3.12/site-packages (0.2.0)\n"
     ]
    }
   ],
   "source": [
    "!pip install sentencepiece\n"
   ]
  },
  {
   "cell_type": "code",
   "execution_count": 333,
   "id": "61cf7940-3adf-48e0-8307-f039119cde97",
   "metadata": {},
   "outputs": [
    {
     "name": "stdout",
     "output_type": "stream",
     "text": [
      "Found existing installation: sentencepiece 0.2.0\n",
      "Uninstalling sentencepiece-0.2.0:\n",
      "  Successfully uninstalled sentencepiece-0.2.0\n",
      "Collecting sentencepiece\n",
      "  Using cached sentencepiece-0.2.0-cp312-cp312-manylinux_2_17_x86_64.manylinux2014_x86_64.whl.metadata (7.7 kB)\n",
      "Using cached sentencepiece-0.2.0-cp312-cp312-manylinux_2_17_x86_64.manylinux2014_x86_64.whl (1.3 MB)\n",
      "Installing collected packages: sentencepiece\n",
      "Successfully installed sentencepiece-0.2.0\n"
     ]
    }
   ],
   "source": [
    "!pip uninstall -y sentencepiece\n",
    "!pip install sentencepiece\n"
   ]
  },
  {
   "cell_type": "code",
   "execution_count": 334,
   "id": "4c6afbd6-733f-4bf9-9f45-29d0a9e443ae",
   "metadata": {},
   "outputs": [
    {
     "name": "stdout",
     "output_type": "stream",
     "text": [
      "/home/shalini/kmsha_mtp/bin/python3\n"
     ]
    }
   ],
   "source": [
    "import sys\n",
    "print(sys.executable)\n"
   ]
  },
  {
   "cell_type": "code",
   "execution_count": 335,
   "id": "1a81dbc9-a860-43ed-a119-38d8fc75b69e",
   "metadata": {},
   "outputs": [
    {
     "name": "stdout",
     "output_type": "stream",
     "text": [
      "Name: transformers\n",
      "Version: 4.47.1\n",
      "Summary: State-of-the-art Machine Learning for JAX, PyTorch and TensorFlow\n",
      "Home-page: https://github.com/huggingface/transformers\n",
      "Author: The Hugging Face team (past and future) with the help of all our contributors (https://github.com/huggingface/transformers/graphs/contributors)\n",
      "Author-email: transformers@huggingface.co\n",
      "License: Apache 2.0 License\n",
      "Location: /home/shalini/kmsha_mtp/lib/python3.12/site-packages\n",
      "Requires: filelock, huggingface-hub, numpy, packaging, pyyaml, regex, requests, safetensors, tokenizers, tqdm\n",
      "Required-by: \n",
      "Note: you may need to restart the kernel to use updated packages.\n"
     ]
    }
   ],
   "source": [
    "pip show transformers\n"
   ]
  },
  {
   "cell_type": "code",
   "execution_count": 336,
   "id": "1d242d0b-81d4-4444-a0a6-ba378e2db97c",
   "metadata": {},
   "outputs": [],
   "source": [
    "model_name=\"t5-small\"\n",
    "tokenizer = T5Tokenizer.from_pretrained(model_name)\n",
    "model = T5ForConditionalGeneration.from_pretrained(model_name).to(\"cuda\" if torch.cuda.is_available() else \"cpu\")"
   ]
  },
  {
   "cell_type": "code",
   "execution_count": 337,
   "id": "a81aa782-2755-4d17-92c0-0655bdf177ed",
   "metadata": {},
   "outputs": [],
   "source": [
    "# Function 6: Fine-tune the Model\n",
    "def fine_tune_t5_model(df, val_df, model, tokenizer, epochs=3, batch_size=2, lr=5e-5):\n",
    "    \"\"\"\n",
    "    Fine-tune the T5 model and evaluate it.\n",
    "    \"\"\"\n",
    "\n",
    "    # Train the model\n",
    "    print(\"Starting training...\")\n",
    "    model, epoch_losses, epoch_bleu_scores = train_model_from_dataframe(model, tokenizer, df, epochs=epochs, batch_size=batch_size, lr=lr, val_df=val_df)\n",
    "\n",
    "    # Plot training progress\n",
    "    plot_training_progress(epoch_losses, epoch_bleu_scores)\n",
    "\n",
    "    # Evaluate the model\n",
    "    print(\"Evaluating model...\")\n",
    "    # accuracy = evaluate_model(model, tokenizer, df)\n",
    "    #avg_bleu, rouge_scores = evaluate_model_with_text_metrics(model, tokenizer, df)\n",
    "    avg_bleu = evaluate_model_with_text_metrics(model, tokenizer, df)\n",
    "\n",
    "    # print(f\"Average BLEU Score: {avg_bleu:.4f}\")\n",
    "    # print(f\"ROUGE Scores: {rouge_scores}\")\n",
    "    \n",
    "    return model"
   ]
  },
  {
   "cell_type": "code",
   "execution_count": 338,
   "id": "581f0592-9374-446e-a188-2f868b28b0f9",
   "metadata": {},
   "outputs": [],
   "source": [
    "data = df.head(250)"
   ]
  },
  {
   "cell_type": "code",
   "execution_count": 339,
   "id": "ed639429-c93a-4343-854b-45e42bab8a00",
   "metadata": {},
   "outputs": [
    {
     "data": {
      "text/plain": [
       "(250, 2)"
      ]
     },
     "execution_count": 339,
     "metadata": {},
     "output_type": "execute_result"
    }
   ],
   "source": [
    "data.shape"
   ]
  },
  {
   "cell_type": "code",
   "execution_count": 340,
   "id": "8eec9ad8-55ca-4376-9f07-3577eaa38873",
   "metadata": {},
   "outputs": [],
   "source": [
    "from sklearn.model_selection import train_test_split\n",
    "\n",
    "# Split your dataframe into training and validation sets (80% for training, 20% for validation)\n",
    "train_df, val_df = train_test_split(data, test_size=0.2, random_state=42)"
   ]
  },
  {
   "cell_type": "code",
   "execution_count": 341,
   "id": "6d131869-3a36-46e1-96b9-6ec37c4d38b8",
   "metadata": {},
   "outputs": [
    {
     "name": "stdout",
     "output_type": "stream",
     "text": [
      "Starting training...\n"
     ]
    },
    {
     "name": "stderr",
     "output_type": "stream",
     "text": [
      "/home/shalini/kmsha_mtp/lib/python3.12/site-packages/transformers/optimization.py:591: FutureWarning: This implementation of AdamW is deprecated and will be removed in a future version. Use the PyTorch implementation torch.optim.AdamW instead, or set `no_deprecation_warning=True` to disable this warning\n",
      "  warnings.warn(\n"
     ]
    },
    {
     "name": "stdout",
     "output_type": "stream",
     "text": [
      "Epoch 1/50\n"
     ]
    },
    {
     "name": "stderr",
     "output_type": "stream",
     "text": [
      "Training Progress: 100%|███████████████████████████████████████████████████████████████| 100/100 [00:04<00:00, 20.34batch/s, loss=2.51]\n",
      "/home/shalini/kmsha_mtp/lib/python3.12/site-packages/transformers/generation/configuration_utils.py:628: UserWarning: `do_sample` is set to `False`. However, `temperature` is set to `0.7` -- this flag is only used in sample-based generation modes. You should set `do_sample=True` or unset `temperature`.\n",
      "  warnings.warn(\n",
      "Validation Progress: 100%|███████████████████████████████████████████████████████████| 50/50 [00:36<00:00,  1.37batch/s, val_loss=3.89]\n",
      "/home/shalini/kmsha_mtp/lib/python3.12/site-packages/nltk/translate/bleu_score.py:577: UserWarning: \n",
      "The hypothesis contains 0 counts of 2-gram overlaps.\n",
      "Therefore the BLEU score evaluates to 0, independently of\n",
      "how many N-gram overlaps of lower order it contains.\n",
      "Consider using lower n-gram order or use SmoothingFunction()\n",
      "  warnings.warn(_msg)\n",
      "/home/shalini/kmsha_mtp/lib/python3.12/site-packages/nltk/translate/bleu_score.py:577: UserWarning: \n",
      "The hypothesis contains 0 counts of 3-gram overlaps.\n",
      "Therefore the BLEU score evaluates to 0, independently of\n",
      "how many N-gram overlaps of lower order it contains.\n",
      "Consider using lower n-gram order or use SmoothingFunction()\n",
      "  warnings.warn(_msg)\n",
      "/home/shalini/kmsha_mtp/lib/python3.12/site-packages/nltk/translate/bleu_score.py:577: UserWarning: \n",
      "The hypothesis contains 0 counts of 4-gram overlaps.\n",
      "Therefore the BLEU score evaluates to 0, independently of\n",
      "how many N-gram overlaps of lower order it contains.\n",
      "Consider using lower n-gram order or use SmoothingFunction()\n",
      "  warnings.warn(_msg)\n"
     ]
    },
    {
     "name": "stdout",
     "output_type": "stream",
     "text": [
      "Validation Loss: 3.8872, Validation BLEU Score: 0.0000\n",
      "Average Training Loss: 2.5014\n",
      "Epoch 2/50\n"
     ]
    },
    {
     "name": "stderr",
     "output_type": "stream",
     "text": [
      "Training Progress: 100%|███████████████████████████████████████████████████████████████| 100/100 [00:04<00:00, 21.50batch/s, loss=1.44]\n",
      "Validation Progress: 100%|███████████████████████████████████████████████████████████| 50/50 [00:37<00:00,  1.35batch/s, val_loss=3.12]\n"
     ]
    },
    {
     "name": "stdout",
     "output_type": "stream",
     "text": [
      "Validation Loss: 3.1243, Validation BLEU Score: 0.0000\n",
      "Average Training Loss: 1.4352\n",
      "Epoch 3/50\n"
     ]
    },
    {
     "name": "stderr",
     "output_type": "stream",
     "text": [
      "Training Progress: 100%|███████████████████████████████████████████████████████████████| 100/100 [00:04<00:00, 21.25batch/s, loss=1.17]\n",
      "Validation Progress: 100%|███████████████████████████████████████████████████████████| 50/50 [00:45<00:00,  1.10batch/s, val_loss=2.62]\n"
     ]
    },
    {
     "name": "stdout",
     "output_type": "stream",
     "text": [
      "Validation Loss: 2.6193, Validation BLEU Score: 0.0000\n",
      "Average Training Loss: 1.1665\n",
      "Epoch 4/50\n"
     ]
    },
    {
     "name": "stderr",
     "output_type": "stream",
     "text": [
      "Training Progress: 100%|██████████████████████████████████████████████████████████████| 100/100 [00:04<00:00, 21.61batch/s, loss=0.963]\n",
      "Validation Progress: 100%|███████████████████████████████████████████████████████████| 50/50 [00:47<00:00,  1.04batch/s, val_loss=2.21]\n"
     ]
    },
    {
     "name": "stdout",
     "output_type": "stream",
     "text": [
      "Validation Loss: 2.2146, Validation BLEU Score: 0.0000\n",
      "Average Training Loss: 0.9577\n",
      "Epoch 5/50\n"
     ]
    },
    {
     "name": "stderr",
     "output_type": "stream",
     "text": [
      "Training Progress: 100%|██████████████████████████████████████████████████████████████| 100/100 [00:04<00:00, 21.58batch/s, loss=0.771]\n",
      "Validation Progress: 100%|███████████████████████████████████████████████████████████| 50/50 [00:49<00:00,  1.00batch/s, val_loss=1.84]\n"
     ]
    },
    {
     "name": "stdout",
     "output_type": "stream",
     "text": [
      "Validation Loss: 1.8448, Validation BLEU Score: 0.0000\n",
      "Average Training Loss: 0.7673\n",
      "Epoch 6/50\n"
     ]
    },
    {
     "name": "stderr",
     "output_type": "stream",
     "text": [
      "Training Progress: 100%|██████████████████████████████████████████████████████████████| 100/100 [00:04<00:00, 21.17batch/s, loss=0.599]\n",
      "Validation Progress: 100%|███████████████████████████████████████████████████████████| 50/50 [00:53<00:00,  1.06s/batch, val_loss=1.54]\n"
     ]
    },
    {
     "name": "stdout",
     "output_type": "stream",
     "text": [
      "Validation Loss: 1.5425, Validation BLEU Score: 0.0030\n",
      "Average Training Loss: 0.5957\n",
      "Epoch 7/50\n"
     ]
    },
    {
     "name": "stderr",
     "output_type": "stream",
     "text": [
      "Training Progress: 100%|██████████████████████████████████████████████████████████████| 100/100 [00:04<00:00, 21.24batch/s, loss=0.479]\n",
      "Validation Progress: 100%|███████████████████████████████████████████████████████████| 50/50 [00:57<00:00,  1.15s/batch, val_loss=1.33]\n"
     ]
    },
    {
     "name": "stdout",
     "output_type": "stream",
     "text": [
      "Validation Loss: 1.3341, Validation BLEU Score: 0.0031\n",
      "Average Training Loss: 0.4762\n",
      "Epoch 8/50\n"
     ]
    },
    {
     "name": "stderr",
     "output_type": "stream",
     "text": [
      "Training Progress: 100%|██████████████████████████████████████████████████████████████| 100/100 [00:04<00:00, 21.25batch/s, loss=0.402]\n",
      "Validation Progress: 100%|███████████████████████████████████████████████████████████| 50/50 [01:00<00:00,  1.21s/batch, val_loss=1.18]\n"
     ]
    },
    {
     "name": "stdout",
     "output_type": "stream",
     "text": [
      "Validation Loss: 1.1850, Validation BLEU Score: 0.0560\n",
      "Average Training Loss: 0.3996\n",
      "Epoch 9/50\n"
     ]
    },
    {
     "name": "stderr",
     "output_type": "stream",
     "text": [
      "Training Progress: 100%|██████████████████████████████████████████████████████████████| 100/100 [00:04<00:00, 21.45batch/s, loss=0.348]\n",
      "Validation Progress: 100%|███████████████████████████████████████████████████████████| 50/50 [01:01<00:00,  1.22s/batch, val_loss=1.07]\n"
     ]
    },
    {
     "name": "stdout",
     "output_type": "stream",
     "text": [
      "Validation Loss: 1.0714, Validation BLEU Score: 0.0356\n",
      "Average Training Loss: 0.3460\n",
      "Epoch 10/50\n"
     ]
    },
    {
     "name": "stderr",
     "output_type": "stream",
     "text": [
      "Training Progress: 100%|██████████████████████████████████████████████████████████████| 100/100 [00:04<00:00, 21.63batch/s, loss=0.303]\n",
      "Validation Progress: 100%|███████████████████████████████████████████████████████████| 50/50 [01:03<00:00,  1.26s/batch, val_loss=0.97]\n"
     ]
    },
    {
     "name": "stdout",
     "output_type": "stream",
     "text": [
      "Validation Loss: 0.9701, Validation BLEU Score: 0.0557\n",
      "Average Training Loss: 0.3013\n",
      "Epoch 11/50\n"
     ]
    },
    {
     "name": "stderr",
     "output_type": "stream",
     "text": [
      "Training Progress: 100%|██████████████████████████████████████████████████████████████| 100/100 [00:04<00:00, 21.19batch/s, loss=0.263]\n",
      "Validation Progress: 100%|███████████████████████████████████████████████████████████| 50/50 [01:03<00:00,  1.27s/batch, val_loss=0.88]\n"
     ]
    },
    {
     "name": "stdout",
     "output_type": "stream",
     "text": [
      "Validation Loss: 0.8805, Validation BLEU Score: 0.0488\n",
      "Average Training Loss: 0.2619\n",
      "Epoch 12/50\n"
     ]
    },
    {
     "name": "stderr",
     "output_type": "stream",
     "text": [
      "Training Progress: 100%|██████████████████████████████████████████████████████████████| 100/100 [00:04<00:00, 21.28batch/s, loss=0.228]\n",
      "Validation Progress: 100%|██████████████████████████████████████████████████████████| 50/50 [01:07<00:00,  1.35s/batch, val_loss=0.802]\n"
     ]
    },
    {
     "name": "stdout",
     "output_type": "stream",
     "text": [
      "Validation Loss: 0.8021, Validation BLEU Score: 0.1062\n",
      "Average Training Loss: 0.2269\n",
      "Epoch 13/50\n"
     ]
    },
    {
     "name": "stderr",
     "output_type": "stream",
     "text": [
      "Training Progress: 100%|██████████████████████████████████████████████████████████████| 100/100 [00:04<00:00, 21.26batch/s, loss=0.197]\n",
      "Validation Progress: 100%|██████████████████████████████████████████████████████████| 50/50 [01:06<00:00,  1.33s/batch, val_loss=0.733]\n"
     ]
    },
    {
     "name": "stdout",
     "output_type": "stream",
     "text": [
      "Validation Loss: 0.7326, Validation BLEU Score: 0.1220\n",
      "Average Training Loss: 0.1957\n",
      "Epoch 14/50\n"
     ]
    },
    {
     "name": "stderr",
     "output_type": "stream",
     "text": [
      "Training Progress: 100%|██████████████████████████████████████████████████████████████| 100/100 [00:04<00:00, 21.20batch/s, loss=0.169]\n",
      "Validation Progress: 100%|██████████████████████████████████████████████████████████| 50/50 [01:05<00:00,  1.32s/batch, val_loss=0.672]\n"
     ]
    },
    {
     "name": "stdout",
     "output_type": "stream",
     "text": [
      "Validation Loss: 0.6716, Validation BLEU Score: 0.1089\n",
      "Average Training Loss: 0.1680\n",
      "Epoch 15/50\n"
     ]
    },
    {
     "name": "stderr",
     "output_type": "stream",
     "text": [
      "Training Progress: 100%|██████████████████████████████████████████████████████████████| 100/100 [00:04<00:00, 21.19batch/s, loss=0.145]\n",
      "Validation Progress: 100%|██████████████████████████████████████████████████████████| 50/50 [01:07<00:00,  1.34s/batch, val_loss=0.621]\n"
     ]
    },
    {
     "name": "stdout",
     "output_type": "stream",
     "text": [
      "Validation Loss: 0.6206, Validation BLEU Score: 0.1282\n",
      "Average Training Loss: 0.1438\n",
      "Epoch 16/50\n"
     ]
    },
    {
     "name": "stderr",
     "output_type": "stream",
     "text": [
      "Training Progress: 100%|██████████████████████████████████████████████████████████████| 100/100 [00:04<00:00, 21.17batch/s, loss=0.124]\n",
      "Validation Progress: 100%|██████████████████████████████████████████████████████████| 50/50 [01:12<00:00,  1.45s/batch, val_loss=0.575]\n"
     ]
    },
    {
     "name": "stdout",
     "output_type": "stream",
     "text": [
      "Validation Loss: 0.5747, Validation BLEU Score: 0.1322\n",
      "Average Training Loss: 0.1232\n",
      "Epoch 17/50\n"
     ]
    },
    {
     "name": "stderr",
     "output_type": "stream",
     "text": [
      "Training Progress: 100%|██████████████████████████████████████████████████████████████| 100/100 [00:04<00:00, 21.19batch/s, loss=0.106]\n",
      "Validation Progress: 100%|██████████████████████████████████████████████████████████| 50/50 [01:13<00:00,  1.47s/batch, val_loss=0.536]\n"
     ]
    },
    {
     "name": "stdout",
     "output_type": "stream",
     "text": [
      "Validation Loss: 0.5358, Validation BLEU Score: 0.1598\n",
      "Average Training Loss: 0.1052\n",
      "Epoch 18/50\n"
     ]
    },
    {
     "name": "stderr",
     "output_type": "stream",
     "text": [
      "Training Progress: 100%|█████████████████████████████████████████████████████████████| 100/100 [00:04<00:00, 21.13batch/s, loss=0.0903]\n",
      "Validation Progress: 100%|██████████████████████████████████████████████████████████| 50/50 [01:11<00:00,  1.43s/batch, val_loss=0.504]\n"
     ]
    },
    {
     "name": "stdout",
     "output_type": "stream",
     "text": [
      "Validation Loss: 0.5037, Validation BLEU Score: 0.1366\n",
      "Average Training Loss: 0.0898\n",
      "Epoch 19/50\n"
     ]
    },
    {
     "name": "stderr",
     "output_type": "stream",
     "text": [
      "Training Progress: 100%|█████████████████████████████████████████████████████████████| 100/100 [00:04<00:00, 21.24batch/s, loss=0.0771]\n",
      "Validation Progress: 100%|██████████████████████████████████████████████████████████| 50/50 [01:14<00:00,  1.48s/batch, val_loss=0.477]\n"
     ]
    },
    {
     "name": "stdout",
     "output_type": "stream",
     "text": [
      "Validation Loss: 0.4770, Validation BLEU Score: 0.1138\n",
      "Average Training Loss: 0.0767\n",
      "Epoch 20/50\n"
     ]
    },
    {
     "name": "stderr",
     "output_type": "stream",
     "text": [
      "Training Progress: 100%|█████████████████████████████████████████████████████████████| 100/100 [00:04<00:00, 21.13batch/s, loss=0.0659]\n",
      "Validation Progress: 100%|██████████████████████████████████████████████████████████| 50/50 [01:13<00:00,  1.46s/batch, val_loss=0.453]\n"
     ]
    },
    {
     "name": "stdout",
     "output_type": "stream",
     "text": [
      "Validation Loss: 0.4534, Validation BLEU Score: 0.1188\n",
      "Average Training Loss: 0.0656\n",
      "Epoch 21/50\n"
     ]
    },
    {
     "name": "stderr",
     "output_type": "stream",
     "text": [
      "Training Progress: 100%|█████████████████████████████████████████████████████████████| 100/100 [00:04<00:00, 21.16batch/s, loss=0.0563]\n",
      "Validation Progress: 100%|██████████████████████████████████████████████████████████| 50/50 [01:12<00:00,  1.46s/batch, val_loss=0.431]\n"
     ]
    },
    {
     "name": "stdout",
     "output_type": "stream",
     "text": [
      "Validation Loss: 0.4312, Validation BLEU Score: 0.1304\n",
      "Average Training Loss: 0.0561\n",
      "Epoch 22/50\n"
     ]
    },
    {
     "name": "stderr",
     "output_type": "stream",
     "text": [
      "Training Progress: 100%|█████████████████████████████████████████████████████████████| 100/100 [00:04<00:00, 21.19batch/s, loss=0.0488]\n",
      "Validation Progress: 100%|██████████████████████████████████████████████████████████| 50/50 [01:12<00:00,  1.45s/batch, val_loss=0.431]\n"
     ]
    },
    {
     "name": "stdout",
     "output_type": "stream",
     "text": [
      "Validation Loss: 0.4306, Validation BLEU Score: 0.1293\n",
      "Average Training Loss: 0.0485\n",
      "Epoch 23/50\n"
     ]
    },
    {
     "name": "stderr",
     "output_type": "stream",
     "text": [
      "Training Progress: 100%|██████████████████████████████████████████████████████████████| 100/100 [00:04<00:00, 21.29batch/s, loss=0.042]\n",
      "Validation Progress: 100%|██████████████████████████████████████████████████████████| 50/50 [01:10<00:00,  1.42s/batch, val_loss=0.406]\n"
     ]
    },
    {
     "name": "stdout",
     "output_type": "stream",
     "text": [
      "Validation Loss: 0.4061, Validation BLEU Score: 0.1176\n",
      "Average Training Loss: 0.0417\n",
      "Epoch 24/50\n"
     ]
    },
    {
     "name": "stderr",
     "output_type": "stream",
     "text": [
      "Training Progress: 100%|█████████████████████████████████████████████████████████████| 100/100 [00:04<00:00, 21.19batch/s, loss=0.0357]\n",
      "Validation Progress: 100%|██████████████████████████████████████████████████████████| 50/50 [01:17<00:00,  1.55s/batch, val_loss=0.392]\n"
     ]
    },
    {
     "name": "stdout",
     "output_type": "stream",
     "text": [
      "Validation Loss: 0.3921, Validation BLEU Score: 0.1575\n",
      "Average Training Loss: 0.0355\n",
      "Epoch 25/50\n"
     ]
    },
    {
     "name": "stderr",
     "output_type": "stream",
     "text": [
      "Training Progress: 100%|█████████████████████████████████████████████████████████████| 100/100 [00:04<00:00, 21.13batch/s, loss=0.0311]\n",
      "Validation Progress: 100%|██████████████████████████████████████████████████████████| 50/50 [01:14<00:00,  1.49s/batch, val_loss=0.382]\n"
     ]
    },
    {
     "name": "stdout",
     "output_type": "stream",
     "text": [
      "Validation Loss: 0.3824, Validation BLEU Score: 0.1408\n",
      "Average Training Loss: 0.0310\n",
      "Epoch 26/50\n"
     ]
    },
    {
     "name": "stderr",
     "output_type": "stream",
     "text": [
      "Training Progress: 100%|█████████████████████████████████████████████████████████████| 100/100 [00:04<00:00, 21.27batch/s, loss=0.0264]\n",
      "Validation Progress: 100%|██████████████████████████████████████████████████████████| 50/50 [01:16<00:00,  1.53s/batch, val_loss=0.376]\n"
     ]
    },
    {
     "name": "stdout",
     "output_type": "stream",
     "text": [
      "Validation Loss: 0.3755, Validation BLEU Score: 0.1764\n",
      "Average Training Loss: 0.0263\n",
      "Epoch 27/50\n"
     ]
    },
    {
     "name": "stderr",
     "output_type": "stream",
     "text": [
      "Training Progress: 100%|█████████████████████████████████████████████████████████████| 100/100 [00:04<00:00, 20.98batch/s, loss=0.0228]\n",
      "Validation Progress: 100%|██████████████████████████████████████████████████████████| 50/50 [01:17<00:00,  1.55s/batch, val_loss=0.367]\n"
     ]
    },
    {
     "name": "stdout",
     "output_type": "stream",
     "text": [
      "Validation Loss: 0.3669, Validation BLEU Score: 0.1805\n",
      "Average Training Loss: 0.0226\n",
      "Epoch 28/50\n"
     ]
    },
    {
     "name": "stderr",
     "output_type": "stream",
     "text": [
      "Training Progress: 100%|█████████████████████████████████████████████████████████████| 100/100 [00:04<00:00, 21.10batch/s, loss=0.0194]\n",
      "Validation Progress: 100%|██████████████████████████████████████████████████████████| 50/50 [01:17<00:00,  1.55s/batch, val_loss=0.363]\n"
     ]
    },
    {
     "name": "stdout",
     "output_type": "stream",
     "text": [
      "Validation Loss: 0.3635, Validation BLEU Score: 0.1816\n",
      "Average Training Loss: 0.0193\n",
      "Epoch 29/50\n"
     ]
    },
    {
     "name": "stderr",
     "output_type": "stream",
     "text": [
      "Training Progress: 100%|█████████████████████████████████████████████████████████████| 100/100 [00:04<00:00, 21.18batch/s, loss=0.0166]\n",
      "Validation Progress: 100%|███████████████████████████████████████████████████████████| 50/50 [01:16<00:00,  1.54s/batch, val_loss=0.36]\n"
     ]
    },
    {
     "name": "stdout",
     "output_type": "stream",
     "text": [
      "Validation Loss: 0.3597, Validation BLEU Score: 0.1608\n",
      "Average Training Loss: 0.0165\n",
      "Epoch 30/50\n"
     ]
    },
    {
     "name": "stderr",
     "output_type": "stream",
     "text": [
      "Training Progress: 100%|█████████████████████████████████████████████████████████████| 100/100 [00:04<00:00, 21.07batch/s, loss=0.0145]\n",
      "Validation Progress: 100%|██████████████████████████████████████████████████████████| 50/50 [01:18<00:00,  1.57s/batch, val_loss=0.354]\n"
     ]
    },
    {
     "name": "stdout",
     "output_type": "stream",
     "text": [
      "Validation Loss: 0.3538, Validation BLEU Score: 0.1682\n",
      "Average Training Loss: 0.0144\n",
      "Epoch 31/50\n"
     ]
    },
    {
     "name": "stderr",
     "output_type": "stream",
     "text": [
      "Training Progress: 100%|█████████████████████████████████████████████████████████████| 100/100 [00:04<00:00, 21.12batch/s, loss=0.0126]\n",
      "Validation Progress: 100%|██████████████████████████████████████████████████████████| 50/50 [01:18<00:00,  1.58s/batch, val_loss=0.353]\n"
     ]
    },
    {
     "name": "stdout",
     "output_type": "stream",
     "text": [
      "Validation Loss: 0.3527, Validation BLEU Score: 0.1952\n",
      "Average Training Loss: 0.0125\n",
      "Epoch 32/50\n"
     ]
    },
    {
     "name": "stderr",
     "output_type": "stream",
     "text": [
      "Training Progress: 100%|██████████████████████████████████████████████████████████████| 100/100 [00:04<00:00, 21.15batch/s, loss=0.011]\n",
      "Validation Progress: 100%|██████████████████████████████████████████████████████████| 50/50 [01:17<00:00,  1.55s/batch, val_loss=0.349]\n"
     ]
    },
    {
     "name": "stdout",
     "output_type": "stream",
     "text": [
      "Validation Loss: 0.3490, Validation BLEU Score: 0.1835\n",
      "Average Training Loss: 0.0109\n",
      "Epoch 33/50\n"
     ]
    },
    {
     "name": "stderr",
     "output_type": "stream",
     "text": [
      "Training Progress: 100%|████████████████████████████████████████████████████████████| 100/100 [00:04<00:00, 21.21batch/s, loss=0.00948]\n",
      "Validation Progress: 100%|███████████████████████████████████████████████████████████| 50/50 [01:17<00:00,  1.55s/batch, val_loss=0.35]\n"
     ]
    },
    {
     "name": "stdout",
     "output_type": "stream",
     "text": [
      "Validation Loss: 0.3496, Validation BLEU Score: 0.1965\n",
      "Average Training Loss: 0.0094\n",
      "Epoch 34/50\n"
     ]
    },
    {
     "name": "stderr",
     "output_type": "stream",
     "text": [
      "Training Progress: 100%|████████████████████████████████████████████████████████████| 100/100 [00:04<00:00, 21.09batch/s, loss=0.00804]\n",
      "Validation Progress: 100%|██████████████████████████████████████████████████████████| 50/50 [01:17<00:00,  1.55s/batch, val_loss=0.347]\n"
     ]
    },
    {
     "name": "stdout",
     "output_type": "stream",
     "text": [
      "Validation Loss: 0.3471, Validation BLEU Score: 0.1967\n",
      "Average Training Loss: 0.0080\n",
      "Epoch 35/50\n"
     ]
    },
    {
     "name": "stderr",
     "output_type": "stream",
     "text": [
      "Training Progress: 100%|████████████████████████████████████████████████████████████| 100/100 [00:04<00:00, 21.23batch/s, loss=0.00698]\n",
      "Validation Progress: 100%|██████████████████████████████████████████████████████████| 50/50 [01:17<00:00,  1.56s/batch, val_loss=0.348]\n"
     ]
    },
    {
     "name": "stdout",
     "output_type": "stream",
     "text": [
      "Validation Loss: 0.3480, Validation BLEU Score: 0.2011\n",
      "Average Training Loss: 0.0069\n",
      "Epoch 36/50\n"
     ]
    },
    {
     "name": "stderr",
     "output_type": "stream",
     "text": [
      "Training Progress: 100%|█████████████████████████████████████████████████████████████| 100/100 [00:04<00:00, 21.87batch/s, loss=0.0061]\n",
      "Validation Progress: 100%|██████████████████████████████████████████████████████████| 50/50 [01:17<00:00,  1.55s/batch, val_loss=0.344]\n"
     ]
    },
    {
     "name": "stdout",
     "output_type": "stream",
     "text": [
      "Validation Loss: 0.3441, Validation BLEU Score: 0.1961\n",
      "Average Training Loss: 0.0061\n",
      "Epoch 37/50\n"
     ]
    },
    {
     "name": "stderr",
     "output_type": "stream",
     "text": [
      "Training Progress: 100%|████████████████████████████████████████████████████████████| 100/100 [00:04<00:00, 21.13batch/s, loss=0.00535]\n",
      "Validation Progress: 100%|██████████████████████████████████████████████████████████| 50/50 [01:17<00:00,  1.55s/batch, val_loss=0.346]\n"
     ]
    },
    {
     "name": "stdout",
     "output_type": "stream",
     "text": [
      "Validation Loss: 0.3458, Validation BLEU Score: 0.1939\n",
      "Average Training Loss: 0.0053\n",
      "Epoch 38/50\n"
     ]
    },
    {
     "name": "stderr",
     "output_type": "stream",
     "text": [
      "Training Progress: 100%|████████████████████████████████████████████████████████████| 100/100 [00:04<00:00, 21.10batch/s, loss=0.00472]\n",
      "Validation Progress: 100%|██████████████████████████████████████████████████████████| 50/50 [01:19<00:00,  1.58s/batch, val_loss=0.342]\n"
     ]
    },
    {
     "name": "stdout",
     "output_type": "stream",
     "text": [
      "Validation Loss: 0.3422, Validation BLEU Score: 0.1980\n",
      "Average Training Loss: 0.0047\n",
      "Epoch 39/50\n"
     ]
    },
    {
     "name": "stderr",
     "output_type": "stream",
     "text": [
      "Training Progress: 100%|████████████████████████████████████████████████████████████| 100/100 [00:04<00:00, 21.18batch/s, loss=0.00415]\n",
      "Validation Progress: 100%|██████████████████████████████████████████████████████████| 50/50 [01:19<00:00,  1.59s/batch, val_loss=0.345]\n"
     ]
    },
    {
     "name": "stdout",
     "output_type": "stream",
     "text": [
      "Validation Loss: 0.3452, Validation BLEU Score: 0.1950\n",
      "Average Training Loss: 0.0041\n",
      "Epoch 40/50\n"
     ]
    },
    {
     "name": "stderr",
     "output_type": "stream",
     "text": [
      "Training Progress: 100%|████████████████████████████████████████████████████████████| 100/100 [00:04<00:00, 21.69batch/s, loss=0.00366]\n",
      "Validation Progress: 100%|██████████████████████████████████████████████████████████| 50/50 [01:17<00:00,  1.56s/batch, val_loss=0.342]\n"
     ]
    },
    {
     "name": "stdout",
     "output_type": "stream",
     "text": [
      "Validation Loss: 0.3422, Validation BLEU Score: 0.1717\n",
      "Average Training Loss: 0.0036\n",
      "Epoch 41/50\n"
     ]
    },
    {
     "name": "stderr",
     "output_type": "stream",
     "text": [
      "Training Progress: 100%|████████████████████████████████████████████████████████████| 100/100 [00:04<00:00, 21.70batch/s, loss=0.00325]\n",
      "Validation Progress: 100%|██████████████████████████████████████████████████████████| 50/50 [01:18<00:00,  1.56s/batch, val_loss=0.342]\n"
     ]
    },
    {
     "name": "stdout",
     "output_type": "stream",
     "text": [
      "Validation Loss: 0.3421, Validation BLEU Score: 0.1763\n",
      "Average Training Loss: 0.0032\n",
      "Epoch 42/50\n"
     ]
    },
    {
     "name": "stderr",
     "output_type": "stream",
     "text": [
      "Training Progress: 100%|████████████████████████████████████████████████████████████| 100/100 [00:04<00:00, 21.62batch/s, loss=0.00291]\n",
      "Validation Progress: 100%|██████████████████████████████████████████████████████████| 50/50 [01:16<00:00,  1.54s/batch, val_loss=0.341]\n"
     ]
    },
    {
     "name": "stdout",
     "output_type": "stream",
     "text": [
      "Validation Loss: 0.3413, Validation BLEU Score: 0.1728\n",
      "Average Training Loss: 0.0029\n",
      "Epoch 43/50\n"
     ]
    },
    {
     "name": "stderr",
     "output_type": "stream",
     "text": [
      "Training Progress: 100%|████████████████████████████████████████████████████████████| 100/100 [00:04<00:00, 21.24batch/s, loss=0.00259]\n",
      "Validation Progress: 100%|██████████████████████████████████████████████████████████| 50/50 [01:17<00:00,  1.55s/batch, val_loss=0.339]\n"
     ]
    },
    {
     "name": "stdout",
     "output_type": "stream",
     "text": [
      "Validation Loss: 0.3392, Validation BLEU Score: 0.1852\n",
      "Average Training Loss: 0.0026\n",
      "Epoch 44/50\n"
     ]
    },
    {
     "name": "stderr",
     "output_type": "stream",
     "text": [
      "Training Progress: 100%|████████████████████████████████████████████████████████████| 100/100 [00:04<00:00, 21.24batch/s, loss=0.00235]\n",
      "Validation Progress: 100%|██████████████████████████████████████████████████████████| 50/50 [01:18<00:00,  1.57s/batch, val_loss=0.338]\n"
     ]
    },
    {
     "name": "stdout",
     "output_type": "stream",
     "text": [
      "Validation Loss: 0.3384, Validation BLEU Score: 0.1914\n",
      "Average Training Loss: 0.0023\n",
      "Epoch 45/50\n"
     ]
    },
    {
     "name": "stderr",
     "output_type": "stream",
     "text": [
      "Training Progress: 100%|████████████████████████████████████████████████████████████| 100/100 [00:04<00:00, 21.31batch/s, loss=0.00213]\n",
      "Validation Progress: 100%|██████████████████████████████████████████████████████████| 50/50 [01:19<00:00,  1.58s/batch, val_loss=0.336]\n"
     ]
    },
    {
     "name": "stdout",
     "output_type": "stream",
     "text": [
      "Validation Loss: 0.3363, Validation BLEU Score: 0.1969\n",
      "Average Training Loss: 0.0021\n",
      "Epoch 46/50\n"
     ]
    },
    {
     "name": "stderr",
     "output_type": "stream",
     "text": [
      "Training Progress: 100%|██████████████████████████████████████████████████████████████| 100/100 [00:04<00:00, 21.21batch/s, loss=0.002]\n",
      "Validation Progress: 100%|██████████████████████████████████████████████████████████| 50/50 [01:20<00:00,  1.61s/batch, val_loss=0.336]\n"
     ]
    },
    {
     "name": "stdout",
     "output_type": "stream",
     "text": [
      "Validation Loss: 0.3360, Validation BLEU Score: 0.1937\n",
      "Average Training Loss: 0.0020\n",
      "Epoch 47/50\n"
     ]
    },
    {
     "name": "stderr",
     "output_type": "stream",
     "text": [
      "Training Progress: 100%|████████████████████████████████████████████████████████████| 100/100 [00:04<00:00, 21.03batch/s, loss=0.00182]\n",
      "Validation Progress: 100%|██████████████████████████████████████████████████████████| 50/50 [01:19<00:00,  1.59s/batch, val_loss=0.337]\n"
     ]
    },
    {
     "name": "stdout",
     "output_type": "stream",
     "text": [
      "Validation Loss: 0.3372, Validation BLEU Score: 0.2128\n",
      "Average Training Loss: 0.0018\n",
      "Epoch 48/50\n"
     ]
    },
    {
     "name": "stderr",
     "output_type": "stream",
     "text": [
      "Training Progress: 100%|████████████████████████████████████████████████████████████| 100/100 [00:04<00:00, 21.26batch/s, loss=0.00171]\n",
      "Validation Progress: 100%|██████████████████████████████████████████████████████████| 50/50 [01:20<00:00,  1.61s/batch, val_loss=0.337]\n"
     ]
    },
    {
     "name": "stdout",
     "output_type": "stream",
     "text": [
      "Validation Loss: 0.3367, Validation BLEU Score: 0.2069\n",
      "Average Training Loss: 0.0017\n",
      "Epoch 49/50\n"
     ]
    },
    {
     "name": "stderr",
     "output_type": "stream",
     "text": [
      "Training Progress: 100%|████████████████████████████████████████████████████████████| 100/100 [00:04<00:00, 21.25batch/s, loss=0.00162]\n",
      "Validation Progress: 100%|██████████████████████████████████████████████████████████| 50/50 [01:18<00:00,  1.58s/batch, val_loss=0.338]\n"
     ]
    },
    {
     "name": "stdout",
     "output_type": "stream",
     "text": [
      "Validation Loss: 0.3375, Validation BLEU Score: 0.2205\n",
      "Average Training Loss: 0.0016\n",
      "Epoch 50/50\n"
     ]
    },
    {
     "name": "stderr",
     "output_type": "stream",
     "text": [
      "Training Progress: 100%|████████████████████████████████████████████████████████████| 100/100 [00:04<00:00, 21.25batch/s, loss=0.00152]\n",
      "Validation Progress: 100%|██████████████████████████████████████████████████████████| 50/50 [01:20<00:00,  1.61s/batch, val_loss=0.345]\n"
     ]
    },
    {
     "name": "stdout",
     "output_type": "stream",
     "text": [
      "Validation Loss: 0.3449, Validation BLEU Score: 0.2093\n",
      "Average Training Loss: 0.0015\n"
     ]
    },
    {
     "data": {
      "image/png": "[encoded data removed]",
      "text/plain": [
       "<Figure size 1000x500 with 2 Axes>"
      ]
     },
     "metadata": {},
     "output_type": "display_data"
    },
    {
     "name": "stdout",
     "output_type": "stream",
     "text": [
      "Evaluating model...\n",
      "Average BLEU Score: 0.3233\n"
     ]
    }
   ],
   "source": [
    "fine_tuned_model = fine_tune_t5_model(train_df, val_df, model, tokenizer, epochs=50)"
   ]
  },
  {
   "cell_type": "code",
   "execution_count": null,
   "id": "093e0215-4474-44d8-b5ad-fa76bcaf80d3",
   "metadata": {},
   "outputs": [],
   "source": []
  },
  {
   "cell_type": "markdown",
   "id": "4d21e0d7-7dda-4249-89d6-be618aa12298",
   "metadata": {},
   "source": [
    "The **BLEU score** ranges from 0 to 1:<br>\n",
    "1. A BLEU score of 1 means a perfect match between the generated output and reference texts.<br>\n",
    "2. A BLEU score of 0 means no overlap between the generated output and reference texts.<br>\n",
    "\n",
    "In practice, BLEU scores typically range between 0 and 1, where scores above 0.7 are generally considered good, but this can vary depending on the task and dataset.\n"
   ]
  },
  {
   "cell_type": "code",
   "execution_count": null,
   "id": "5a3b0d59-e535-4d9e-8b0f-82cf5c1bd393",
   "metadata": {},
   "outputs": [],
   "source": []
  },
  {
   "cell_type": "code",
   "execution_count": null,
   "id": "0e06285d-3d06-4dc5-bf60-cff18126cc8c",
   "metadata": {},
   "outputs": [],
   "source": []
  },
  {
   "cell_type": "code",
   "execution_count": 342,
   "id": "19e7545c-5074-4484-843a-96e11615533f",
   "metadata": {},
   "outputs": [
    {
     "name": "stdout",
     "output_type": "stream",
     "text": [
      "\n",
      "Generated Execution Flow:\n",
      "::STEP:1:PHASE:Explore:DESCRIPTION:Understand the Rechteinhaber bei der Nutzung von Datenträgern bei der Nutzung von Datenträgern bei der Nutzung von Datenträgern bei der Nutzung von Datenträgern bei der Nutzung von Datenträgern bei der Nutzung von Datenträgern bei der Nutzung von Datenträgern bei der Nutzung von Datenträgern bei der Nutzung von Datenträgern bei der Nutzung von Datenträgern bei der Nutzung von Datenträgern bei der Nutzung von Datenträgern bei\n"
     ]
    }
   ],
   "source": [
    "# Test Prediction\n",
    "new_cve_description = \"A vulnerability was found in Netis Netcore Router up to 2.2.6. It has been declared as problematic. Affected by this vulnerability is an unknown functionality of the file param.file.tgz of the component Backup Handler. The manipulation leads to information disclosure. The attack can be launched remotely. The associated identifier of this vulnerability is VDB-217591.\"\n",
    "execution_flow = generate_execution_flow(fine_tuned_model, tokenizer, new_cve_description)\n",
    "\n",
    "print(\"\\nGenerated Execution Flow:\")\n",
    "print(execution_flow)"
   ]
  },
  {
   "cell_type": "code",
   "execution_count": null,
   "id": "a452a7ca-bd5d-4c96-9bb5-f40b5861fc83",
   "metadata": {},
   "outputs": [],
   "source": []
  },
  {
   "cell_type": "code",
   "execution_count": 343,
   "id": "927b5b9c-0a18-431a-81f7-833e4eb57c46",
   "metadata": {},
   "outputs": [
    {
     "name": "stdout",
     "output_type": "stream",
     "text": [
      "Fine-tuned model and tokenizer saved to ./T5model_with_bleu_score\n"
     ]
    }
   ],
   "source": [
    "# Assuming you have a fine-tuned model and tokenizer\n",
    "fine_tuned_model = fine_tuned_model  # Replace with your fine-tuned model variable\n",
    "fine_tuned_tokenizer = tokenizer  # Replace with your fine-tuned tokenizer variable\n",
    "\n",
    "# Specify the directory to save the fine-tuned model and tokenizer\n",
    "output_dir = \"./T5model_with_bleu_score\"\n",
    "\n",
    "# Save the model and tokenizer\n",
    "fine_tuned_model.save_pretrained(output_dir)\n",
    "fine_tuned_tokenizer.save_pretrained(output_dir)\n",
    "\n",
    "print(f\"Fine-tuned model and tokenizer saved to {output_dir}\")"
   ]
  },
  {
   "cell_type": "code",
   "execution_count": null,
   "id": "cd3c7d02-53c2-4e34-8628-f9e706e50001",
   "metadata": {},
   "outputs": [],
   "source": []
  },
  {
   "cell_type": "code",
   "execution_count": 344,
   "id": "8871bdaf-f4f0-4b67-aff5-42b8ea124ece",
   "metadata": {},
   "outputs": [
    {
     "name": "stdout",
     "output_type": "stream",
     "text": [
      "Fine-tuned model and tokenizer loaded from ./T5model_with_bleu_score\n"
     ]
    }
   ],
   "source": [
    "# Load the fine-tuned model and tokenizer\n",
    "saved_model_dir = \"./T5model_with_bleu_score\"\n",
    "\n",
    "# Reload the fine-tuned model and tokenizer\n",
    "mo = T5ForConditionalGeneration.from_pretrained(saved_model_dir).to(\"cuda\" if torch.cuda.is_available() else \"cpu\")\n",
    "to = T5Tokenizer.from_pretrained(saved_model_dir)\n",
    "\n",
    "print(f\"Fine-tuned model and tokenizer loaded from {saved_model_dir}\")"
   ]
  },
  {
   "cell_type": "code",
   "execution_count": null,
   "id": "96020ad0-4b34-42ff-bbe6-d760c5633637",
   "metadata": {},
   "outputs": [],
   "source": []
  },
  {
   "cell_type": "code",
   "execution_count": 348,
   "id": "6ea199d1-e828-41f8-a559-fee81d76376e",
   "metadata": {},
   "outputs": [
    {
     "name": "stdout",
     "output_type": "stream",
     "text": [
      "\n",
      "Generated Execution Flow:\n",
      "::STEP:1:PHASE:Explore:DESCRIPTION:Understand the Rechteinhaber bei der Nutzung von Datenträgern bei der Nutzung von Datenträgern bei der Nutzung von Datenträgern bei der Nutzung von Datenträgern bei der Nutzung von Datenträgern bei der Nutzung von Datenträgern bei der Nutzung von Datenträgern bei der Nutzung von Datenträgern bei der Nutzung von Datenträgern bei der Nutzung von Datenträgern bei der Nutzung von Datenträgern bei der Nutzung von Datenträgern bei\n"
     ]
    }
   ],
   "source": [
    "# Test Prediction\n",
    "new_cve_description = \"A vulnerability was found in Netis Netcore Router up to 2.2.6. It has been declared as problematic. Affected by this vulnerability is an unknown functionality of the file param.file.tgz of the component Backup Handler. The manipulation leads to information disclosure. The attack can be launched remotely. The associated identifier of this vulnerability is VDB-217591.\"\n",
    "execution_flow = generate_execution_flow(mo, to, new_cve_description)\n",
    "\n",
    "print(\"\\nGenerated Execution Flow:\")\n",
    "print(execution_flow)"
   ]
  },
  {
   "cell_type": "code",
   "execution_count": 1,
   "id": "b5403e5b-b2f8-490d-9867-dbce77cf1fde",
   "metadata": {},
   "outputs": [
    {
     "ename": "NameError",
     "evalue": "name 'generate_execution_flow' is not defined",
     "output_type": "error",
     "traceback": [
      "\u001b[1;31m---------------------------------------------------------------------------\u001b[0m",
      "\u001b[1;31mNameError\u001b[0m                                 Traceback (most recent call last)",
      "Cell \u001b[1;32mIn[1], line 3\u001b[0m\n\u001b[0;32m      1\u001b[0m \u001b[38;5;66;03m# Test Prediction\u001b[39;00m\n\u001b[0;32m      2\u001b[0m new_cve_description \u001b[38;5;241m=\u001b[39m \u001b[38;5;124m\"\u001b[39m\u001b[38;5;124mA vulnerability classified as problematic was found in Supcon InPlant SCADA up to 20230901. Affected by this vulnerability is an unknown functionality of the file Project.xml. The manipulation leads to password hash with insufficient computational effort. Local access is required to approach this attack. The complexity of an attack is rather high. The exploitation appears to be difficult. The exploit has been disclosed to the public and may be used. The identifier VDB-239797 was assigned to this vulnerability. NOTE: The vendor was contacted early about this disclosure but did not respond in any way.\u001b[39m\u001b[38;5;124m\"\u001b[39m\n\u001b[1;32m----> 3\u001b[0m execution_flow \u001b[38;5;241m=\u001b[39m \u001b[43mgenerate_execution_flow\u001b[49m(mo, to, new_cve_description)\n\u001b[0;32m      5\u001b[0m \u001b[38;5;28mprint\u001b[39m(\u001b[38;5;124m\"\u001b[39m\u001b[38;5;130;01m\\n\u001b[39;00m\u001b[38;5;124mGenerated Execution Flow:\u001b[39m\u001b[38;5;124m\"\u001b[39m)\n\u001b[0;32m      6\u001b[0m \u001b[38;5;28mprint\u001b[39m(execution_flow)\n",
      "\u001b[1;31mNameError\u001b[0m: name 'generate_execution_flow' is not defined"
     ]
    }
   ],
   "source": [
    "# Test Prediction\n",
    "new_cve_description = \"A vulnerability classified as problematic was found in Supcon InPlant SCADA up to 20230901. Affected by this vulnerability is an unknown functionality of the file Project.xml. The manipulation leads to password hash with insufficient computational effort. Local access is required to approach this attack. The complexity of an attack is rather high. The exploitation appears to be difficult. The exploit has been disclosed to the public and may be used. The identifier VDB-239797 was assigned to this vulnerability. NOTE: The vendor was contacted early about this disclosure but did not respond in any way.\"\n",
    "execution_flow = generate_execution_flow(mo, to, new_cve_description)\n",
    "\n",
    "print(\"\\nGenerated Execution Flow:\")\n",
    "print(execution_flow)"
   ]
  },
  {
   "cell_type": "code",
   "execution_count": 346,
   "id": "fce13800-d84f-4f49-82b1-946b867b303f",
   "metadata": {},
   "outputs": [
    {
     "name": "stdout",
     "output_type": "stream",
     "text": [
      "Thu Jan  2 10:49:45 2025       \n",
      "+-----------------------------------------------------------------------------------------+\n",
      "| NVIDIA-SMI 550.90.07              Driver Version: 550.90.07      CUDA Version: 12.4     |\n",
      "|-----------------------------------------+------------------------+----------------------+\n",
      "| GPU  Name                 Persistence-M | Bus-Id          Disp.A | Volatile Uncorr. ECC |\n",
      "| Fan  Temp   Perf          Pwr:Usage/Cap |           Memory-Usage | GPU-Util  Compute M. |\n",
      "|                                         |                        |               MIG M. |\n",
      "|=========================================+========================+======================|\n",
      "|   0  NVIDIA A100-SXM4-40GB          Off |   00000000:07:00.0 Off |                    0 |\n",
      "| N/A   43C    P0            198W /  400W |   39970MiB /  40960MiB |    100%      Default |\n",
      "|                                         |                        |             Disabled |\n",
      "+-----------------------------------------+------------------------+----------------------+\n",
      "|   1  NVIDIA A100-SXM4-40GB          Off |   00000000:0F:00.0 Off |                    0 |\n",
      "| N/A   29C    P0             60W /  400W |    4977MiB /  40960MiB |      0%      Default |\n",
      "|                                         |                        |             Disabled |\n",
      "+-----------------------------------------+------------------------+----------------------+\n",
      "|   2  NVIDIA A100-SXM4-40GB          Off |   00000000:47:00.0 Off |                    0 |\n",
      "| N/A   56C    P0            349W /  400W |   17617MiB /  40960MiB |     63%      Default |\n",
      "|                                         |                        |             Disabled |\n",
      "+-----------------------------------------+------------------------+----------------------+\n",
      "|   3  NVIDIA A100-SXM4-40GB          Off |   00000000:4E:00.0 Off |                    0 |\n",
      "| N/A   30C    P0             78W /  400W |    2905MiB /  40960MiB |      0%      Default |\n",
      "|                                         |                        |             Disabled |\n",
      "+-----------------------------------------+------------------------+----------------------+\n",
      "|   4  NVIDIA A100-SXM4-40GB          Off |   00000000:87:00.0 Off |                    0 |\n",
      "| N/A   38C    P0             84W /  400W |   33149MiB /  40960MiB |      0%      Default |\n",
      "|                                         |                        |             Disabled |\n",
      "+-----------------------------------------+------------------------+----------------------+\n",
      "|   5  NVIDIA A100-SXM4-40GB          Off |   00000000:90:00.0 Off |                    0 |\n",
      "| N/A   34C    P0             85W /  400W |   10341MiB /  40960MiB |      0%      Default |\n",
      "|                                         |                        |             Disabled |\n",
      "+-----------------------------------------+------------------------+----------------------+\n",
      "|   6  NVIDIA A100-SXM4-40GB          Off |   00000000:B7:00.0 Off |                    0 |\n",
      "| N/A   47C    P0            103W /  400W |     495MiB /  40960MiB |      0%      Default |\n",
      "|                                         |                        |             Disabled |\n",
      "+-----------------------------------------+------------------------+----------------------+\n",
      "|   7  NVIDIA A100-SXM4-40GB          Off |   00000000:BD:00.0 Off |                    0 |\n",
      "| N/A   33C    P0             88W /  400W |     519MiB /  40960MiB |      0%      Default |\n",
      "|                                         |                        |             Disabled |\n",
      "+-----------------------------------------+------------------------+----------------------+\n",
      "                                                                                         \n",
      "+-----------------------------------------------------------------------------------------+\n",
      "| Processes:                                                                              |\n",
      "|  GPU   GI   CI        PID   Type   Process name                              GPU Memory |\n",
      "|        ID   ID                                                               Usage      |\n",
      "|=========================================================================================|\n",
      "|    0   N/A  N/A     20247      C   /home/shalini/kmsha_mtp/bin/python3             0MiB |\n",
      "|    1   N/A  N/A     12650      C   /home/shalini/kmsha_mtp/bin/python3             0MiB |\n",
      "+-----------------------------------------------------------------------------------------+\n"
     ]
    }
   ],
   "source": [
    "!nvidia-smi"
   ]
  },
  {
   "cell_type": "code",
   "execution_count": null,
   "id": "7a421fa1-6931-4f32-82a7-db894841e2ba",
   "metadata": {},
   "outputs": [],
   "source": []
  }
 ],
 "metadata": {
  "kernelspec": {
   "display_name": "Python 3",
   "language": "python",
   "name": "python3"
  },
  "language_info": {
   "codemirror_mode": {
    "name": "ipython",
    "version": 3
   },
   "file_extension": ".py",
   "mimetype": "text/x-python",
   "name": "python",
   "nbconvert_exporter": "python",
   "pygments_lexer": "ipython3",
   "version": "3.9.10"
  }
 },
 "nbformat": 4,
 "nbformat_minor": 5
}
